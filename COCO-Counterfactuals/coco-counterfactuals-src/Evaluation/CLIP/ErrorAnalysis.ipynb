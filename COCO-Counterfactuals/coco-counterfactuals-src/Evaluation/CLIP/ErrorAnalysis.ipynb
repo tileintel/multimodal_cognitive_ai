{
 "cells": [
  {
   "cell_type": "markdown",
   "id": "7f244413-7a54-4039-b1f5-410e3fcef39f",
   "metadata": {},
   "source": [
    "### Prepare data for error analysis"
   ]
  },
  {
   "cell_type": "code",
   "execution_count": 1,
   "id": "733530ed-22f0-4469-8708-ad5cdaef40a1",
   "metadata": {},
   "outputs": [],
   "source": [
    "import torchvision\n",
    "from copy import copy\n",
    "import numpy as np\n",
    "from collections import defaultdict\n",
    "import pickle\n",
    "import os\n",
    "import os.path as osp\n",
    "import pickle"
   ]
  },
  {
   "cell_type": "code",
   "execution_count": 2,
   "id": "f38f8b78-0a61-4c0b-b980-61f3607a25ec",
   "metadata": {},
   "outputs": [],
   "source": [
    "# cifar10_data = torchvision.datasets.Food101('/export/share/projects/mcai/COCO-Counterfactuals/datasets/food101/', download=True)"
   ]
  },
  {
   "cell_type": "code",
   "execution_count": 3,
   "id": "66b4de15-f114-416a-884b-d188c058799d",
   "metadata": {},
   "outputs": [
    {
     "name": "stdout",
     "output_type": "stream",
     "text": [
      "Files already downloaded and verified\n"
     ]
    }
   ],
   "source": [
    "# For Caltech101\n",
    "caltech101_data = torchvision.datasets.Caltech101('/export/share/projects/mcai/COCO-Counterfactuals/datasets/caltech101/', download=True)\n",
    "caltech101_labels = copy(caltech101_data.categories)\n",
    "caltech101_labels.remove('Faces_easy')"
   ]
  },
  {
   "cell_type": "code",
   "execution_count": 40,
   "id": "62d8bccb-990d-4fa9-83a1-2ea5e9111f83",
   "metadata": {},
   "outputs": [
    {
     "name": "stdout",
     "output_type": "stream",
     "text": [
      "Files already downloaded and verified\n"
     ]
    }
   ],
   "source": [
    "# For Caltech256\n",
    "caltech256_data = torchvision.datasets.Caltech256('/export/share/projects/mcai/COCO-Counterfactuals/datasets/caltech256/', download=True)\n",
    "caltech256_labels = copy(caltech256_data.categories)\n",
    "\n",
    "sents_256 = []\n",
    "specials = {'billiards':'billiard',\n",
    "            'binoculars' : 'binocular',\n",
    "            'bonsai-101' : 'bonsai',\n",
    "            'brain-101' : 'brain',\n",
    "            'buddha-101' : 'buddha',\n",
    "            'chandelier-101' : 'chandelier',\n",
    "            'chopsticks' : 'chopstick',\n",
    "            'crab-101' : 'crab',\n",
    "            'dolphin-101' : 'dolphin',\n",
    "            'electric-guitar-101' : 'electric-guitar',\n",
    "            'elephant-101' : 'elephant',\n",
    "            'ewer-101' : 'ewer',\n",
    "            'eyeglasses' : 'eyeglass',\n",
    "            'fireworks' : 'firework',\n",
    "            'grand-piano-101' : 'grand-piano',\n",
    "            'hawksbill-101' : 'hawksbill',\n",
    "            'helicopter-101' : 'helicopter',\n",
    "            'ibis-101' : 'ibis',\n",
    "            'kangaroo-101' : 'kangaroo',\n",
    "            'ketch-101' : 'ketch',\n",
    "            'laptop-101' : 'laptop',\n",
    "            'leopards-101' : 'leopard',\n",
    "            'llama-101' : 'llama',\n",
    "            'menorah-101' : 'menorah',\n",
    "            'motorbikes-101' : 'motorbike',\n",
    "            'mussels' : 'mussel',\n",
    "            'revolver-101' : 'revolver',\n",
    "            'scorpion-101' : 'scorpion',\n",
    "            'socks' : 'sock',\n",
    "            'starfish-101' : 'starfish',\n",
    "            'sunflower-101' : 'sunflower',\n",
    "            'triceratops' : 'triceratop',\n",
    "            'trilobite-101' : 'trilobite',\n",
    "            'umbrella-101' : 'umbrella',\n",
    "            'watch-101' : 'watch',\n",
    "            'airplanes-101' : 'airplane',\n",
    "            'car-side-101' : 'car-side',\n",
    "            'faces-easy-101' : 'face',\n",
    "           }\n",
    "for i in range(len(caltech256_labels)):\n",
    "    tmp = caltech256_labels[i].lower()\n",
    "    #remove xxx from xxx.label\n",
    "    tmp = tmp.split('.')[-1]\n",
    "    #remove plural if needed\n",
    "    if tmp in specials.keys():\n",
    "        tmp = specials[tmp]\n",
    "    #replace '-' with space\n",
    "    if tmp.lower() != 't-shirt':\n",
    "        tmp = tmp.replace('-', ' ')\n",
    "    \n",
    "    sents_256.append(tmp)\n",
    "caltech256_labels = sents_256"
   ]
  },
  {
   "cell_type": "code",
   "execution_count": 5,
   "id": "d3f7ce4b-eae1-4b53-9b23-b8b1d2661d3b",
   "metadata": {},
   "outputs": [],
   "source": [
    "# For food101\n",
    "food101_data = torchvision.datasets.Food101('/export/share/projects/mcai/COCO-Counterfactuals/datasets/food101/', split='test', download=True)\n",
    "food101_labels = copy(food101_data.classes)"
   ]
  },
  {
   "cell_type": "code",
   "execution_count": 6,
   "id": "ab0fd41c-68ec-4978-a7dc-88b3b4a15e54",
   "metadata": {},
   "outputs": [],
   "source": [
    "# For imagenet\n",
    "imagenet_data = torchvision.datasets.ImageNet(root='/export/share/projects/mcai/COCO-Counterfactuals/datasets/imagenet/', split='val')\n",
    "imagenet_labels = copy(imagenet_data.classes)\n",
    "sents = []\n",
    "\n",
    "for i in range(len(imagenet_labels)):\n",
    "    tmp = imagenet_labels[i][0].lower()   \n",
    "    sents.append(tmp)\n",
    "imagenet_labels = sents"
   ]
  },
  {
   "cell_type": "code",
   "execution_count": 8,
   "id": "8e9b68ea-30a5-4579-9e28-d2b942614c01",
   "metadata": {},
   "outputs": [],
   "source": [
    "# imagenet_labels"
   ]
  },
  {
   "cell_type": "code",
   "execution_count": 9,
   "id": "468255a4-be67-48ca-bc78-93739e64dd58",
   "metadata": {},
   "outputs": [],
   "source": [
    "# For Cifar10\n",
    "cifar10_labels = {0 : \"airplane\", 1: \"automobile\", 2: \"bird\", 3 : \"cat\", 4: \"deer\", 5: \"dog\", 6 : \"frog\", 7 : \"horse\", 8 : \"ship\", 9 : \"truck\"}\n",
    "# For Cifar100\n",
    "with open('/export/share/projects/mcai/COCO-Counterfactuals/datasets/cifar100/cifar-100-python/meta', 'rb') as handle:\n",
    "    cifar100_labels = handle.read()\n",
    "cifar100_labels = pickle.loads(cifar100_labels)\n",
    "cifar100_labels = cifar100_labels['fine_label_names']"
   ]
  },
  {
   "cell_type": "code",
   "execution_count": 45,
   "id": "bf4e7a19-a88c-4a2d-b8f0-5a96a60598f9",
   "metadata": {},
   "outputs": [],
   "source": [
    "def error_analyze_per_class(ground_truth_path, prediction_path, labels):\n",
    "    ground_truth = np.load(ground_truth_path)\n",
    "    prediction = np.load(prediction_path)\n",
    "    counter_class = defaultdict(int)\n",
    "    counter_correct_predict = defaultdict(int)\n",
    "    for i, truth in enumerate(ground_truth):\n",
    "        counter_class[truth] += 1\n",
    "        if truth == prediction[i]:\n",
    "            counter_correct_predict[truth] += 1\n",
    "    accuracy_rate_per_class = {}\n",
    "    for k in counter_class.keys():\n",
    "        accuracy_rate_per_class[labels[k]] = {'accuracy' : counter_correct_predict[k] / counter_class[k], 'total_number_tests' : counter_class[k]}\n",
    "    return accuracy_rate_per_class"
   ]
  },
  {
   "cell_type": "code",
   "execution_count": 11,
   "id": "dbbb6107-4cee-43e9-85ad-1403fbb891f4",
   "metadata": {},
   "outputs": [],
   "source": [
    "# ground_truth_path = 'base-clip/groundtruth_cifar10.npy'\n",
    "# prediction_path = 'base-clip/predictions_cifar10.npy'\n",
    "# accuracy_rate_per_class = error_analyze_per_class(ground_truth_path, prediction_path, cifar10_labels)"
   ]
  },
  {
   "cell_type": "code",
   "execution_count": 12,
   "id": "5aa8a0be-007f-4e60-bd0f-190fa99c0e20",
   "metadata": {},
   "outputs": [],
   "source": [
    "# accuracy_rate_per_class"
   ]
  },
  {
   "cell_type": "code",
   "execution_count": 13,
   "id": "ff68d58c-e4ef-48b2-bf4e-17afc3120cf7",
   "metadata": {},
   "outputs": [],
   "source": [
    "# with open(osp.join('.', 'test1.pkl'), 'wb') as f:\n",
    "#     pickle.dump(accuracy_rate_per_class, f)"
   ]
  },
  {
   "cell_type": "code",
   "execution_count": 14,
   "id": "6f5f0465-9321-4252-a31d-d8e8455247ae",
   "metadata": {},
   "outputs": [],
   "source": [
    "# with open('base-clip/accuracy_cifar10.pkl', 'rb') as f:\n",
    "#     accuracy_dict = pickle.load(f)\n",
    "# accuracy_dict"
   ]
  },
  {
   "cell_type": "code",
   "execution_count": 43,
   "id": "2f6f2547-0f4d-4f03-b7e6-309b54f67a2c",
   "metadata": {},
   "outputs": [],
   "source": [
    "model_paths = [ 'base-clip', \n",
    "               'CLIP-finetune-on-coco-and-coco_cfs-all-1',\n",
    "               'CLIP-finetune-on-coco-and-coco_cfs-base-1',\n",
    "               'CLIP-finetune-on-coco-and-coco_cfs-medium-1',\n",
    "               'CLIP-finetune-on-mscoco-1']\n",
    "benchmarks = [\n",
    "    # 'cifar10',\n",
    "    #           'cifar100',\n",
    "    #           'food101',\n",
    "    #           'caltech101',\n",
    "              'caltech256',\n",
    "              # 'imagenet',\n",
    "]\n",
    "labels = [\n",
    "    # cifar10_labels,\n",
    "    #       cifar100_labels,\n",
    "    #       food101_labels,\n",
    "    #       caltech101_labels,\n",
    "          caltech256_labels,\n",
    "          # imagenet_labels,\n",
    "]\n"
   ]
  },
  {
   "cell_type": "code",
   "execution_count": 46,
   "id": "3b1c512b-8e11-488e-bead-d86ac457528a",
   "metadata": {},
   "outputs": [],
   "source": [
    "for m in model_paths:\n",
    "    for i, d in enumerate(benchmarks):\n",
    "        ground_truth_path = osp.join(m, 'groundtruth_' + d + '.npy')\n",
    "        prediction_path = osp.join(m, 'predictions_' + d + '.npy')\n",
    "        label = labels[i]\n",
    "        accuracy_rate_per_class = error_analyze_per_class(ground_truth_path, prediction_path, label)\n",
    "        with open(osp.join(m, 'accuracy_' + d + '.pkl'), 'wb') as f:\n",
    "            pickle.dump(accuracy_rate_per_class, f)"
   ]
  },
  {
   "cell_type": "code",
   "execution_count": 21,
   "id": "dc1bb950-c2d6-4e54-ac84-2df82523af46",
   "metadata": {},
   "outputs": [],
   "source": [
    "#for loading accuracy\n",
    "all_accuracy = {}\n",
    "for m in model_paths:\n",
    "    m_accuracy = {}\n",
    "    for i, d in enumerate(benchmarks):\n",
    "        with open(osp.join(m, 'accuracy_' + d + '.pkl'), 'rb') as f:\n",
    "            accuracy_rate_per_class = pickle.load(f)\n",
    "        m_accuracy.update({d : accuracy_rate_per_class})\n",
    "    all_accuracy[m] = m_accuracy"
   ]
  },
  {
   "cell_type": "code",
   "execution_count": 24,
   "id": "b2705244-aa27-49d8-96e6-0548ef9deb0f",
   "metadata": {},
   "outputs": [
    {
     "data": {
      "text/plain": [
       "dict_keys(['base-clip', 'CLIP-finetune-on-coco-and-coco_cfs-all-1', 'CLIP-finetune-on-coco-and-coco_cfs-base-1', 'CLIP-finetune-on-coco-and-coco_cfs-medium-1', 'CLIP-finetune-on-mscoco-1'])"
      ]
     },
     "execution_count": 24,
     "metadata": {},
     "output_type": "execute_result"
    }
   ],
   "source": [
    "all_accuracy.keys()"
   ]
  },
  {
   "cell_type": "code",
   "execution_count": 23,
   "id": "785853c6-e839-4ace-b55f-b33ed0ca5442",
   "metadata": {},
   "outputs": [
    {
     "data": {
      "text/plain": [
       "dict_keys(['cifar10', 'cifar100', 'food101', 'caltech101', 'caltech256', 'imagenet'])"
      ]
     },
     "execution_count": 23,
     "metadata": {},
     "output_type": "execute_result"
    }
   ],
   "source": [
    "all_accuracy['base-clip'].keys()"
   ]
  },
  {
   "cell_type": "code",
   "execution_count": null,
   "id": "ef6d904d-e9f0-46e8-84ec-12088913a343",
   "metadata": {},
   "outputs": [],
   "source": [
    "# {'train_runtime' : 147.74,\n",
    "# 'train_samples_per_second' : 23.915,\n",
    "# 'train_steps_per_second' : 0.188,\n",
    "# 'train_loss' : 1.4744, \n",
    "# 'memory_allocated (GB)' : 31.54,\n",
    "# 'max_memory_allocated (GB)' : 78.2 }"
   ]
  },
  {
   "cell_type": "markdown",
   "id": "57472491-191b-4813-9a86-0e3ea7c1facf",
   "metadata": {},
   "source": [
    "### Error Ananlysis"
   ]
  },
  {
   "cell_type": "code",
   "execution_count": 1,
   "id": "959c596d-cd8f-4d86-8faf-2eef440a82ba",
   "metadata": {},
   "outputs": [],
   "source": [
    "import pandas as pd\n",
    "import os\n",
    "import os.path as osp\n",
    "import numpy\n",
    "import pickle"
   ]
  },
  {
   "cell_type": "code",
   "execution_count": 2,
   "id": "b5eefb59-7e94-4ad7-bf78-bcbd56d6f278",
   "metadata": {},
   "outputs": [],
   "source": [
    "# Load frequency_replaced_words.csv\n",
    "# df_freq = pd.read_csv('../../CounterfactualCaptionGeneration/frequency_replaced_words.csv')\n",
    "df_freq = pd.read_csv('../../CounterfactualCaptionGeneration/frequency_used_counterfactual_words.csv')"
   ]
  },
  {
   "cell_type": "code",
   "execution_count": 3,
   "id": "f7919a38-cfb4-4998-90b2-f20877d9a08b",
   "metadata": {},
   "outputs": [
    {
     "data": {
      "text/html": [
       "<div>\n",
       "<style scoped>\n",
       "    .dataframe tbody tr th:only-of-type {\n",
       "        vertical-align: middle;\n",
       "    }\n",
       "\n",
       "    .dataframe tbody tr th {\n",
       "        vertical-align: top;\n",
       "    }\n",
       "\n",
       "    .dataframe thead th {\n",
       "        text-align: right;\n",
       "    }\n",
       "</style>\n",
       "<table border=\"1\" class=\"dataframe\">\n",
       "  <thead>\n",
       "    <tr style=\"text-align: right;\">\n",
       "      <th></th>\n",
       "      <th>counterfactual_stem_word</th>\n",
       "      <th>count</th>\n",
       "    </tr>\n",
       "  </thead>\n",
       "  <tbody>\n",
       "    <tr>\n",
       "      <th>0</th>\n",
       "      <td>boy</td>\n",
       "      <td>777</td>\n",
       "    </tr>\n",
       "    <tr>\n",
       "      <th>1</th>\n",
       "      <td>girl</td>\n",
       "      <td>568</td>\n",
       "    </tr>\n",
       "    <tr>\n",
       "      <th>2</th>\n",
       "      <td>man</td>\n",
       "      <td>471</td>\n",
       "    </tr>\n",
       "    <tr>\n",
       "      <th>3</th>\n",
       "      <td>car</td>\n",
       "      <td>358</td>\n",
       "    </tr>\n",
       "    <tr>\n",
       "      <th>4</th>\n",
       "      <td>men</td>\n",
       "      <td>324</td>\n",
       "    </tr>\n",
       "    <tr>\n",
       "      <th>...</th>\n",
       "      <td>...</td>\n",
       "      <td>...</td>\n",
       "    </tr>\n",
       "    <tr>\n",
       "      <th>1592</th>\n",
       "      <td>corona</td>\n",
       "      <td>1</td>\n",
       "    </tr>\n",
       "    <tr>\n",
       "      <th>1593</th>\n",
       "      <td>rusti</td>\n",
       "      <td>1</td>\n",
       "    </tr>\n",
       "    <tr>\n",
       "      <th>1594</th>\n",
       "      <td>saddl</td>\n",
       "      <td>1</td>\n",
       "    </tr>\n",
       "    <tr>\n",
       "      <th>1595</th>\n",
       "      <td>core</td>\n",
       "      <td>1</td>\n",
       "    </tr>\n",
       "    <tr>\n",
       "      <th>1596</th>\n",
       "      <td>abov</td>\n",
       "      <td>1</td>\n",
       "    </tr>\n",
       "  </tbody>\n",
       "</table>\n",
       "<p>1597 rows × 2 columns</p>\n",
       "</div>"
      ],
      "text/plain": [
       "     counterfactual_stem_word  count\n",
       "0                         boy    777\n",
       "1                        girl    568\n",
       "2                         man    471\n",
       "3                         car    358\n",
       "4                         men    324\n",
       "...                       ...    ...\n",
       "1592                   corona      1\n",
       "1593                    rusti      1\n",
       "1594                    saddl      1\n",
       "1595                     core      1\n",
       "1596                     abov      1\n",
       "\n",
       "[1597 rows x 2 columns]"
      ]
     },
     "execution_count": 3,
     "metadata": {},
     "output_type": "execute_result"
    }
   ],
   "source": [
    "df_freq"
   ]
  },
  {
   "cell_type": "code",
   "execution_count": 4,
   "id": "a3371f09-df09-41c5-b6bd-fc9b1ca26e85",
   "metadata": {},
   "outputs": [],
   "source": [
    "#load all accuracy\n",
    "# at COCO-Counterfactuals/coco-counterfactuals-src/Evaluation/CLIP\n",
    "\n",
    "model_paths = [ 'base-clip', \n",
    "               'CLIP-finetune-on-coco-and-coco_cfs-all-1',\n",
    "               'CLIP-finetune-on-coco-and-coco_cfs-base-1',\n",
    "               'CLIP-finetune-on-coco-and-coco_cfs-medium-1',\n",
    "               'CLIP-finetune-on-mscoco-1']\n",
    "\n",
    "benchmarks = [\n",
    "    'cifar10',\n",
    "              'cifar100',\n",
    "              'food101',\n",
    "              'caltech101',\n",
    "              'caltech256',\n",
    "              'imagenet']\n",
    "\n",
    "#for loading accuracy\n",
    "all_accuracy = {}\n",
    "for m in model_paths:\n",
    "    m_accuracy = {}\n",
    "    for i, d in enumerate(benchmarks):\n",
    "        with open(osp.join(m, 'accuracy_' + d + '.pkl'), 'rb') as f:\n",
    "            accuracy_rate_per_class = pickle.load(f)\n",
    "        m_accuracy.update({d : accuracy_rate_per_class})\n",
    "    all_accuracy[m] = m_accuracy"
   ]
  },
  {
   "cell_type": "code",
   "execution_count": 5,
   "id": "3bc24f96-af7c-4f93-9cdd-29abf0690e57",
   "metadata": {},
   "outputs": [
    {
     "data": {
      "text/plain": [
       "dict_keys(['base-clip', 'CLIP-finetune-on-coco-and-coco_cfs-all-1', 'CLIP-finetune-on-coco-and-coco_cfs-base-1', 'CLIP-finetune-on-coco-and-coco_cfs-medium-1', 'CLIP-finetune-on-mscoco-1'])"
      ]
     },
     "execution_count": 5,
     "metadata": {},
     "output_type": "execute_result"
    }
   ],
   "source": [
    "all_accuracy.keys()"
   ]
  },
  {
   "cell_type": "code",
   "execution_count": 6,
   "id": "95fc019a-01f0-44d5-a833-002aad1fa179",
   "metadata": {},
   "outputs": [],
   "source": [
    "import nltk\n",
    "p = nltk.PorterStemmer()"
   ]
  },
  {
   "cell_type": "code",
   "execution_count": 7,
   "id": "82e5d006-af20-4dd6-9aa2-fdb08c22b3be",
   "metadata": {},
   "outputs": [],
   "source": [
    "datasets = ['cifar10', 'cifar100', 'caltech101', 'caltech256', 'food101', 'imagenet']\n",
    "models = ['CLIP-finetune-on-coco-and-coco_cfs-base-1', 'CLIP-finetune-on-coco-and-coco_cfs-medium-1', 'CLIP-finetune-on-coco-and-coco_cfs-all-1']"
   ]
  },
  {
   "cell_type": "code",
   "execution_count": 8,
   "id": "aef7d2be-0d7f-44dc-8e61-dee8f254836d",
   "metadata": {},
   "outputs": [],
   "source": [
    "def error_analysis(dataset, model, df_freq_per_counter_word):\n",
    "    all_accuracy_baseline = all_accuracy['base-clip']\n",
    "    all_accuracy_baseline_dataset = all_accuracy_baseline[dataset]\n",
    "    all_accuracy_cfs_model = all_accuracy[model]\n",
    "    all_accuracy_cfs_model_dataset = all_accuracy_cfs_model[dataset]\n",
    "    changes = [all_accuracy_cfs_model_dataset[k]['accuracy'] - all_accuracy_baseline_dataset[k]['accuracy'] for k in all_accuracy_baseline_dataset.keys()]\n",
    "    changes_df = pd.DataFrame({'category':all_accuracy_baseline_dataset.keys(), 'changed_from_baseline' : changes})\n",
    "    changes_df = changes_df.sort_values(by=['changed_from_baseline'], ascending=[False])\n",
    "    category_list = changes_df['category'].to_list()\n",
    "    category_list = [p.stem(i) for i in category_list]\n",
    "    frequency_per_category = df_freq_per_counter_word[df_freq_per_counter_word['counterfactual_stem_word'].isin(category_list)]\n",
    "    frequency = [ frequency_per_category.loc[frequency_per_category['counterfactual_stem_word'] == i]['count'].iloc[0] if \n",
    "                 len(frequency_per_category.loc[frequency_per_category['counterfactual_stem_word'] == i]) > 0 else 0\n",
    "                 for i in category_list]\n",
    "    changes_df['frequency'] = frequency\n",
    "    return changes_df"
   ]
  },
  {
   "cell_type": "code",
   "execution_count": 25,
   "id": "e8c27e05-fd08-4281-95df-28a28bde1596",
   "metadata": {},
   "outputs": [],
   "source": [
    "# changes_df_cifar10_base = error_analysis(dataset, model, df_freq_per_counter_word)\n",
    "# changes_df_cifar10_base.to_csv(f\"ErrorAnalysisResults/accuracy_changes_with_frequency_{dataset}_{model}.csv\", header=True, index=False)"
   ]
  },
  {
   "cell_type": "code",
   "execution_count": 10,
   "id": "c80e8fe1-4398-4aff-9ebb-cf4e0fbf2df6",
   "metadata": {},
   "outputs": [],
   "source": [
    "for dataset in datasets:\n",
    "    for m in models:\n",
    "        changes_df_model = error_analysis(dataset, m, df_freq)\n",
    "        changes_df_model.to_csv(f\"ErrorAnalysisResults/accuracy_changes_with_frequency_{dataset}_{m}.csv\", header=True, index=False)"
   ]
  },
  {
   "cell_type": "code",
   "execution_count": 11,
   "id": "22475ef1-ed81-4e4b-9af0-73530707fb15",
   "metadata": {},
   "outputs": [
    {
     "data": {
      "text/plain": [
       "887"
      ]
     },
     "execution_count": 11,
     "metadata": {},
     "output_type": "execute_result"
    }
   ],
   "source": [
    "changes_df_model.frequency.sum()"
   ]
  },
  {
   "cell_type": "code",
   "execution_count": 57,
   "id": "d42a439d-09a7-45eb-bc51-96bad05ae9f2",
   "metadata": {},
   "outputs": [],
   "source": []
  },
  {
   "cell_type": "code",
   "execution_count": 14,
   "id": "b225f20b-45e9-46ce-967b-68ce4f053d53",
   "metadata": {},
   "outputs": [],
   "source": [
    "dss = []\n",
    "sum = []\n",
    "total_appearances = []\n",
    "appearance_percentages = []\n",
    "average = []\n",
    "for d in datasets:\n",
    "    df = pd.read_csv(F\"ErrorAnalysisResults/accuracy_changes_with_frequency_{d}_{m}.csv\")\n",
    "    dss.append(d)\n",
    "    sum.append(df.frequency.sum())\n",
    "    df['is_pos'] = [1 if i > 0 else 0 for i in df['frequency'].to_list()]\n",
    "    total_appearances.append(df.is_pos.sum())\n",
    "    average.append(df.frequency.sum() / len(df['frequency'].to_list()))\n",
    "    appearance_percentages.append(100.0 * df.is_pos.sum() / len(df['frequency'].to_list()))\n",
    "sum_freq = pd.DataFrame({'benchmark' : dss, 'sum_frequency' : sum, 'sum_frequency/len(categories)' : average, 'total_appearance_in_coco_cfs':total_appearances, 'appearance_percentages (%)' :appearance_percentages})"
   ]
  },
  {
   "cell_type": "code",
   "execution_count": 15,
   "id": "3ce855e3-0263-4765-8c80-d1e73332f4be",
   "metadata": {},
   "outputs": [
    {
     "data": {
      "text/html": [
       "<div>\n",
       "<style scoped>\n",
       "    .dataframe tbody tr th:only-of-type {\n",
       "        vertical-align: middle;\n",
       "    }\n",
       "\n",
       "    .dataframe tbody tr th {\n",
       "        vertical-align: top;\n",
       "    }\n",
       "\n",
       "    .dataframe thead th {\n",
       "        text-align: right;\n",
       "    }\n",
       "</style>\n",
       "<table border=\"1\" class=\"dataframe\">\n",
       "  <thead>\n",
       "    <tr style=\"text-align: right;\">\n",
       "      <th></th>\n",
       "      <th>benchmark</th>\n",
       "      <th>sum_frequency</th>\n",
       "      <th>sum_frequency/len(categories)</th>\n",
       "      <th>total_appearance_in_coco_cfs</th>\n",
       "      <th>appearance_percentages (%)</th>\n",
       "    </tr>\n",
       "  </thead>\n",
       "  <tbody>\n",
       "    <tr>\n",
       "      <th>0</th>\n",
       "      <td>cifar10</td>\n",
       "      <td>398</td>\n",
       "      <td>39.800000</td>\n",
       "      <td>9</td>\n",
       "      <td>90.000000</td>\n",
       "    </tr>\n",
       "    <tr>\n",
       "      <th>1</th>\n",
       "      <td>cifar100</td>\n",
       "      <td>3446</td>\n",
       "      <td>34.460000</td>\n",
       "      <td>55</td>\n",
       "      <td>55.000000</td>\n",
       "    </tr>\n",
       "    <tr>\n",
       "      <th>2</th>\n",
       "      <td>caltech101</td>\n",
       "      <td>354</td>\n",
       "      <td>3.540000</td>\n",
       "      <td>24</td>\n",
       "      <td>24.000000</td>\n",
       "    </tr>\n",
       "    <tr>\n",
       "      <th>3</th>\n",
       "      <td>caltech256</td>\n",
       "      <td>744</td>\n",
       "      <td>2.894942</td>\n",
       "      <td>48</td>\n",
       "      <td>18.677043</td>\n",
       "    </tr>\n",
       "    <tr>\n",
       "      <th>4</th>\n",
       "      <td>food101</td>\n",
       "      <td>28</td>\n",
       "      <td>0.277228</td>\n",
       "      <td>3</td>\n",
       "      <td>2.970297</td>\n",
       "    </tr>\n",
       "    <tr>\n",
       "      <th>5</th>\n",
       "      <td>imagenet</td>\n",
       "      <td>887</td>\n",
       "      <td>0.889669</td>\n",
       "      <td>105</td>\n",
       "      <td>10.531595</td>\n",
       "    </tr>\n",
       "  </tbody>\n",
       "</table>\n",
       "</div>"
      ],
      "text/plain": [
       "    benchmark  sum_frequency  sum_frequency/len(categories)  \\\n",
       "0     cifar10            398                      39.800000   \n",
       "1    cifar100           3446                      34.460000   \n",
       "2  caltech101            354                       3.540000   \n",
       "3  caltech256            744                       2.894942   \n",
       "4     food101             28                       0.277228   \n",
       "5    imagenet            887                       0.889669   \n",
       "\n",
       "   total_appearance_in_coco_cfs  appearance_percentages (%)  \n",
       "0                             9                   90.000000  \n",
       "1                            55                   55.000000  \n",
       "2                            24                   24.000000  \n",
       "3                            48                   18.677043  \n",
       "4                             3                    2.970297  \n",
       "5                           105                   10.531595  "
      ]
     },
     "execution_count": 15,
     "metadata": {},
     "output_type": "execute_result"
    }
   ],
   "source": [
    "sum_freq"
   ]
  },
  {
   "cell_type": "code",
   "execution_count": 16,
   "id": "9b2a639a-f82c-432e-878a-312aa2a3ec74",
   "metadata": {},
   "outputs": [],
   "source": [
    "sum_freq.to_csv(f\"ErrorAnalysisResults/error-analysis-all-benchmarks.csv\", header=True, index=False)"
   ]
  },
  {
   "cell_type": "markdown",
   "id": "13b7cbe0-3a72-45d0-ba7e-51d86e327315",
   "metadata": {},
   "source": [
    "#### Error Analysis on Human Annotation"
   ]
  },
  {
   "cell_type": "code",
   "execution_count": 1,
   "id": "1757b643-d453-4df5-a387-67f6f2c0b76a",
   "metadata": {},
   "outputs": [],
   "source": [
    "import re\n",
    "import nltk\n",
    "import pandas as pd\n",
    "p = nltk.PorterStemmer()\n",
    "regex = re.compile('[^a-zA-Z ]')"
   ]
  },
  {
   "cell_type": "code",
   "execution_count": 2,
   "id": "badfe970-c148-446a-8e79-022b75cd3fd1",
   "metadata": {},
   "outputs": [],
   "source": [
    "human_annotation_df = pd.read_csv('./ErrorAnalysisResults/captions_with_human_labels.csv')"
   ]
  },
  {
   "cell_type": "code",
   "execution_count": 3,
   "id": "68590605-0744-4543-930c-51df9cc587c5",
   "metadata": {},
   "outputs": [
    {
     "name": "stdout",
     "output_type": "stream",
     "text": [
      "<class 'pandas.core.frame.DataFrame'>\n",
      "RangeIndex: 34820 entries, 0 to 34819\n",
      "Data columns (total 14 columns):\n",
      " #   Column            Non-Null Count  Dtype \n",
      "---  ------            --------------  ----- \n",
      " 0   Unnamed: 0        34820 non-null  int64 \n",
      " 1   index             34820 non-null  int64 \n",
      " 2   caption_1         34820 non-null  object\n",
      " 3   caption_2         34820 non-null  object\n",
      " 4   filename          34820 non-null  object\n",
      " 5   type              34820 non-null  object\n",
      " 6   image_id          34820 non-null  int64 \n",
      " 7   source_file       34820 non-null  object\n",
      " 8   destination_file  34820 non-null  object\n",
      " 9   label_1           34820 non-null  object\n",
      " 10  label_2           3482 non-null   object\n",
      " 11  label_3           3482 non-null   object\n",
      " 12  label             34820 non-null  object\n",
      " 13  correct           34820 non-null  object\n",
      "dtypes: int64(3), object(11)\n",
      "memory usage: 3.7+ MB\n"
     ]
    }
   ],
   "source": [
    "human_annotation_df.info()"
   ]
  },
  {
   "cell_type": "code",
   "execution_count": 4,
   "id": "a731a2ed-aafd-4f44-830f-08591bdcea2a",
   "metadata": {},
   "outputs": [],
   "source": [
    "incorrect = human_annotation_df[(human_annotation_df['correct'] != 'correct')]"
   ]
  },
  {
   "cell_type": "code",
   "execution_count": 5,
   "id": "f32dddee-d3df-47af-b98e-96838a7342a9",
   "metadata": {},
   "outputs": [
    {
     "name": "stdout",
     "output_type": "stream",
     "text": [
      "<class 'pandas.core.frame.DataFrame'>\n",
      "Int64Index: 9338 entries, 1 to 34819\n",
      "Data columns (total 14 columns):\n",
      " #   Column            Non-Null Count  Dtype \n",
      "---  ------            --------------  ----- \n",
      " 0   Unnamed: 0        9338 non-null   int64 \n",
      " 1   index             9338 non-null   int64 \n",
      " 2   caption_1         9338 non-null   object\n",
      " 3   caption_2         9338 non-null   object\n",
      " 4   filename          9338 non-null   object\n",
      " 5   type              9338 non-null   object\n",
      " 6   image_id          9338 non-null   int64 \n",
      " 7   source_file       9338 non-null   object\n",
      " 8   destination_file  9338 non-null   object\n",
      " 9   label_1           9338 non-null   object\n",
      " 10  label_2           747 non-null    object\n",
      " 11  label_3           747 non-null    object\n",
      " 12  label             9338 non-null   object\n",
      " 13  correct           9338 non-null   object\n",
      "dtypes: int64(3), object(11)\n",
      "memory usage: 1.1+ MB\n"
     ]
    }
   ],
   "source": [
    "incorrect.info()"
   ]
  },
  {
   "cell_type": "code",
   "execution_count": 6,
   "id": "99513305-8daf-4806-b902-492d13689710",
   "metadata": {},
   "outputs": [],
   "source": [
    "cap1 = incorrect['caption_1'].to_list()\n",
    "cap2 = incorrect['caption_2'].to_list()"
   ]
  },
  {
   "cell_type": "code",
   "execution_count": 7,
   "id": "76c62e9d-82c8-46aa-96fb-b53e54d13f95",
   "metadata": {},
   "outputs": [],
   "source": [
    "def extract_replaced_words(original, counter):\n",
    "    original = regex.sub('', original)\n",
    "    counter = regex.sub('', counter)\n",
    "    \n",
    "    original=original.split()\n",
    "    counter=counter.split()\n",
    "    replaced_word = None\n",
    "    being_replaced_word = None\n",
    "    i, j = -1, -1\n",
    "    for i, w in enumerate(original):\n",
    "        if w not in counter:\n",
    "            being_replaced_word = w\n",
    "            break\n",
    "    for j, w in enumerate(counter):\n",
    "        if w not in original:\n",
    "            replaced_word = w\n",
    "            break\n",
    "    if replaced_word == None and being_replaced_word != None:\n",
    "        replaced_word = original[j]\n",
    "    if being_replaced_word == None and replaced_word != None:\n",
    "        being_replaced_word = counter[i]\n",
    "    if being_replaced_word == None and replaced_word == None:\n",
    "        print('Error', original, counter)\n",
    "    # if being_replaced_word != None and being_replaced_word[-1] == '.':\n",
    "    #     being_replaced_word = being_replaced_word[:-1]\n",
    "    # if replaced_word != None and replaced_word[-1] == '.':\n",
    "    #     replaced_word = replaced_word[:-1]\n",
    "    return p.stem(being_replaced_word), p.stem(replaced_word)"
   ]
  },
  {
   "cell_type": "code",
   "execution_count": 8,
   "id": "648a878f-86d6-4ea1-b0f6-2600ddc68acf",
   "metadata": {},
   "outputs": [],
   "source": [
    "being_replaced_words = []\n",
    "replaced_words = []\n",
    "wrong = []\n",
    "for i, origin in enumerate(cap1):\n",
    "    counter = cap2[i]\n",
    "    being_replaced_word, replaced_word = extract_replaced_words(origin, counter)\n",
    "    if being_replaced_word != None and replaced_word != None:\n",
    "        being_replaced_words.append(being_replaced_word)\n",
    "        replaced_words.append(replaced_word)\n",
    "    else:\n",
    "        wrong.append(i)"
   ]
  },
  {
   "cell_type": "code",
   "execution_count": 9,
   "id": "66306cc5-ecd2-48d7-bbb8-029a60021acd",
   "metadata": {},
   "outputs": [
    {
     "data": {
      "text/plain": [
       "0"
      ]
     },
     "execution_count": 9,
     "metadata": {},
     "output_type": "execute_result"
    }
   ],
   "source": [
    "len(wrong)\n",
    "# replaced_words"
   ]
  },
  {
   "cell_type": "code",
   "execution_count": 10,
   "id": "4676e41c-841d-458b-a387-e1c268573f2e",
   "metadata": {},
   "outputs": [
    {
     "name": "stderr",
     "output_type": "stream",
     "text": [
      "/scratch/slurm-709881/ipykernel_2038952/857734510.py:1: SettingWithCopyWarning: \n",
      "A value is trying to be set on a copy of a slice from a DataFrame.\n",
      "Try using .loc[row_indexer,col_indexer] = value instead\n",
      "\n",
      "See the caveats in the documentation: https://pandas.pydata.org/pandas-docs/stable/user_guide/indexing.html#returning-a-view-versus-a-copy\n",
      "  incorrect['original_stem_word'] = being_replaced_words\n",
      "/scratch/slurm-709881/ipykernel_2038952/857734510.py:2: SettingWithCopyWarning: \n",
      "A value is trying to be set on a copy of a slice from a DataFrame.\n",
      "Try using .loc[row_indexer,col_indexer] = value instead\n",
      "\n",
      "See the caveats in the documentation: https://pandas.pydata.org/pandas-docs/stable/user_guide/indexing.html#returning-a-view-versus-a-copy\n",
      "  incorrect['counterfactual_stem_word']=replaced_words\n"
     ]
    }
   ],
   "source": [
    "incorrect['original_stem_word'] = being_replaced_words\n",
    "incorrect['counterfactual_stem_word']=replaced_words"
   ]
  },
  {
   "cell_type": "code",
   "execution_count": 12,
   "id": "ef804cf1-7064-4cca-af22-640c3238dbe9",
   "metadata": {},
   "outputs": [],
   "source": [
    "incorrect_stats = incorrect.groupby(by=['original_stem_word','counterfactual_stem_word'])['correct'].count().reset_index(name='count')"
   ]
  },
  {
   "cell_type": "code",
   "execution_count": 13,
   "id": "5467f640-f223-4dd3-ab1f-e6c5e8bbeb09",
   "metadata": {},
   "outputs": [],
   "source": [
    "incorrect_stats = incorrect_stats.sort_values(by=['count'], ascending=[False])"
   ]
  },
  {
   "cell_type": "code",
   "execution_count": 14,
   "id": "35431fcf-73a7-4de4-832f-143c55ddd7f1",
   "metadata": {},
   "outputs": [
    {
     "data": {
      "text/plain": [
       "1223"
      ]
     },
     "execution_count": 14,
     "metadata": {},
     "output_type": "execute_result"
    }
   ],
   "source": [
    "incorrect_stats.head(40)['count'].sum()"
   ]
  },
  {
   "cell_type": "code",
   "execution_count": 15,
   "id": "c3ef72d8-3cf2-4949-b19a-6b1edbd197fe",
   "metadata": {},
   "outputs": [],
   "source": [
    "incorrect_stats.to_csv('./ErrorAnalysisResults/frequencies_of_human_annotated_non_correct.csv', header=True, index=False)"
   ]
  },
  {
   "cell_type": "code",
   "execution_count": null,
   "id": "ba9cf9db-c122-4468-a561-ab8784141e8c",
   "metadata": {},
   "outputs": [],
   "source": []
  },
  {
   "cell_type": "code",
   "execution_count": null,
   "id": "4b0dfc83-648b-49c2-8af1-72535e81882c",
   "metadata": {},
   "outputs": [],
   "source": []
  },
  {
   "cell_type": "code",
   "execution_count": 53,
   "id": "b6fa4ce7-d3d6-494b-b0c9-ec67b66c505d",
   "metadata": {},
   "outputs": [],
   "source": [
    "incorrect_stats_counterfactual_word = incorrect_stats.groupby(by=['counterfactual_word'])['count'].sum().reset_index()"
   ]
  },
  {
   "cell_type": "code",
   "execution_count": 56,
   "id": "100c9686-d9f6-4afc-b608-780612d29895",
   "metadata": {},
   "outputs": [],
   "source": [
    "incorrect_stats_counterfactual_word = incorrect_stats_counterfactual_word.sort_values(by=['count'],ascending=[False])"
   ]
  },
  {
   "cell_type": "code",
   "execution_count": 61,
   "id": "d9c274d2-287c-4ca6-a983-49badbc0a28c",
   "metadata": {},
   "outputs": [
    {
     "data": {
      "text/plain": [
       "3999"
      ]
     },
     "execution_count": 61,
     "metadata": {},
     "output_type": "execute_result"
    }
   ],
   "source": [
    "incorrect_stats_counterfactual_word.head(60)['count'].sum()"
   ]
  },
  {
   "cell_type": "code",
   "execution_count": 62,
   "id": "8ddd0f3a-de35-414e-ade0-0da8a277a515",
   "metadata": {},
   "outputs": [
    {
     "data": {
      "text/html": [
       "<div>\n",
       "<style scoped>\n",
       "    .dataframe tbody tr th:only-of-type {\n",
       "        vertical-align: middle;\n",
       "    }\n",
       "\n",
       "    .dataframe tbody tr th {\n",
       "        vertical-align: top;\n",
       "    }\n",
       "\n",
       "    .dataframe thead th {\n",
       "        text-align: right;\n",
       "    }\n",
       "</style>\n",
       "<table border=\"1\" class=\"dataframe\">\n",
       "  <thead>\n",
       "    <tr style=\"text-align: right;\">\n",
       "      <th></th>\n",
       "      <th>counterfactual_word</th>\n",
       "      <th>count</th>\n",
       "    </tr>\n",
       "  </thead>\n",
       "  <tbody>\n",
       "    <tr>\n",
       "      <th>131</th>\n",
       "      <td>boy</td>\n",
       "      <td>258</td>\n",
       "    </tr>\n",
       "    <tr>\n",
       "      <th>475</th>\n",
       "      <td>girl</td>\n",
       "      <td>255</td>\n",
       "    </tr>\n",
       "    <tr>\n",
       "      <th>653</th>\n",
       "      <td>man</td>\n",
       "      <td>241</td>\n",
       "    </tr>\n",
       "    <tr>\n",
       "      <th>672</th>\n",
       "      <td>men</td>\n",
       "      <td>162</td>\n",
       "    </tr>\n",
       "    <tr>\n",
       "      <th>200</th>\n",
       "      <td>car</td>\n",
       "      <td>161</td>\n",
       "    </tr>\n",
       "    <tr>\n",
       "      <th>1242</th>\n",
       "      <td>woman</td>\n",
       "      <td>138</td>\n",
       "    </tr>\n",
       "    <tr>\n",
       "      <th>1161</th>\n",
       "      <td>tree</td>\n",
       "      <td>130</td>\n",
       "    </tr>\n",
       "    <tr>\n",
       "      <th>1101</th>\n",
       "      <td>tabl</td>\n",
       "      <td>126</td>\n",
       "    </tr>\n",
       "    <tr>\n",
       "      <th>546</th>\n",
       "      <td>hous</td>\n",
       "      <td>111</td>\n",
       "    </tr>\n",
       "    <tr>\n",
       "      <th>791</th>\n",
       "      <td>peopl</td>\n",
       "      <td>103</td>\n",
       "    </tr>\n",
       "    <tr>\n",
       "      <th>227</th>\n",
       "      <td>chair</td>\n",
       "      <td>86</td>\n",
       "    </tr>\n",
       "    <tr>\n",
       "      <th>588</th>\n",
       "      <td>kid</td>\n",
       "      <td>86</td>\n",
       "    </tr>\n",
       "    <tr>\n",
       "      <th>1219</th>\n",
       "      <td>water</td>\n",
       "      <td>80</td>\n",
       "    </tr>\n",
       "    <tr>\n",
       "      <th>1069</th>\n",
       "      <td>street</td>\n",
       "      <td>75</td>\n",
       "    </tr>\n",
       "    <tr>\n",
       "      <th>130</th>\n",
       "      <td>box</td>\n",
       "      <td>69</td>\n",
       "    </tr>\n",
       "    <tr>\n",
       "      <th>631</th>\n",
       "      <td>light</td>\n",
       "      <td>68</td>\n",
       "    </tr>\n",
       "    <tr>\n",
       "      <th>771</th>\n",
       "      <td>park</td>\n",
       "      <td>68</td>\n",
       "    </tr>\n",
       "    <tr>\n",
       "      <th>501</th>\n",
       "      <td>guy</td>\n",
       "      <td>63</td>\n",
       "    </tr>\n",
       "    <tr>\n",
       "      <th>530</th>\n",
       "      <td>hill</td>\n",
       "      <td>61</td>\n",
       "    </tr>\n",
       "    <tr>\n",
       "      <th>359</th>\n",
       "      <td>dog</td>\n",
       "      <td>60</td>\n",
       "    </tr>\n",
       "    <tr>\n",
       "      <th>792</th>\n",
       "      <td>person</td>\n",
       "      <td>59</td>\n",
       "    </tr>\n",
       "    <tr>\n",
       "      <th>907</th>\n",
       "      <td>road</td>\n",
       "      <td>59</td>\n",
       "    </tr>\n",
       "    <tr>\n",
       "      <th>413</th>\n",
       "      <td>field</td>\n",
       "      <td>58</td>\n",
       "    </tr>\n",
       "    <tr>\n",
       "      <th>494</th>\n",
       "      <td>group</td>\n",
       "      <td>55</td>\n",
       "    </tr>\n",
       "    <tr>\n",
       "      <th>949</th>\n",
       "      <td>school</td>\n",
       "      <td>55</td>\n",
       "    </tr>\n",
       "    <tr>\n",
       "      <th>1169</th>\n",
       "      <td>truck</td>\n",
       "      <td>53</td>\n",
       "    </tr>\n",
       "    <tr>\n",
       "      <th>157</th>\n",
       "      <td>build</td>\n",
       "      <td>50</td>\n",
       "    </tr>\n",
       "    <tr>\n",
       "      <th>50</th>\n",
       "      <td>bag</td>\n",
       "      <td>49</td>\n",
       "    </tr>\n",
       "    <tr>\n",
       "      <th>143</th>\n",
       "      <td>bridg</td>\n",
       "      <td>49</td>\n",
       "    </tr>\n",
       "    <tr>\n",
       "      <th>920</th>\n",
       "      <td>room</td>\n",
       "      <td>49</td>\n",
       "    </tr>\n",
       "    <tr>\n",
       "      <th>1073</th>\n",
       "      <td>student</td>\n",
       "      <td>46</td>\n",
       "    </tr>\n",
       "    <tr>\n",
       "      <th>237</th>\n",
       "      <td>child</td>\n",
       "      <td>44</td>\n",
       "    </tr>\n",
       "    <tr>\n",
       "      <th>488</th>\n",
       "      <td>grass</td>\n",
       "      <td>43</td>\n",
       "    </tr>\n",
       "    <tr>\n",
       "      <th>1214</th>\n",
       "      <td>wall</td>\n",
       "      <td>43</td>\n",
       "    </tr>\n",
       "    <tr>\n",
       "      <th>1236</th>\n",
       "      <td>window</td>\n",
       "      <td>43</td>\n",
       "    </tr>\n",
       "    <tr>\n",
       "      <th>84</th>\n",
       "      <td>bed</td>\n",
       "      <td>40</td>\n",
       "    </tr>\n",
       "    <tr>\n",
       "      <th>238</th>\n",
       "      <td>children</td>\n",
       "      <td>40</td>\n",
       "    </tr>\n",
       "    <tr>\n",
       "      <th>542</th>\n",
       "      <td>hors</td>\n",
       "      <td>40</td>\n",
       "    </tr>\n",
       "    <tr>\n",
       "      <th>1177</th>\n",
       "      <td>tv</td>\n",
       "      <td>40</td>\n",
       "    </tr>\n",
       "    <tr>\n",
       "      <th>342</th>\n",
       "      <td>desk</td>\n",
       "      <td>38</td>\n",
       "    </tr>\n",
       "    <tr>\n",
       "      <th>76</th>\n",
       "      <td>beach</td>\n",
       "      <td>38</td>\n",
       "    </tr>\n",
       "    <tr>\n",
       "      <th>115</th>\n",
       "      <td>boat</td>\n",
       "      <td>36</td>\n",
       "    </tr>\n",
       "    <tr>\n",
       "      <th>364</th>\n",
       "      <td>door</td>\n",
       "      <td>35</td>\n",
       "    </tr>\n",
       "    <tr>\n",
       "      <th>991</th>\n",
       "      <td>sign</td>\n",
       "      <td>35</td>\n",
       "    </tr>\n",
       "    <tr>\n",
       "      <th>906</th>\n",
       "      <td>river</td>\n",
       "      <td>35</td>\n",
       "    </tr>\n",
       "    <tr>\n",
       "      <th>435</th>\n",
       "      <td>flower</td>\n",
       "      <td>35</td>\n",
       "    </tr>\n",
       "    <tr>\n",
       "      <th>439</th>\n",
       "      <td>food</td>\n",
       "      <td>34</td>\n",
       "    </tr>\n",
       "    <tr>\n",
       "      <th>100</th>\n",
       "      <td>bike</td>\n",
       "      <td>34</td>\n",
       "    </tr>\n",
       "    <tr>\n",
       "      <th>527</th>\n",
       "      <td>highway</td>\n",
       "      <td>33</td>\n",
       "    </tr>\n",
       "    <tr>\n",
       "      <th>44</th>\n",
       "      <td>babi</td>\n",
       "      <td>32</td>\n",
       "    </tr>\n",
       "    <tr>\n",
       "      <th>895</th>\n",
       "      <td>restaur</td>\n",
       "      <td>32</td>\n",
       "    </tr>\n",
       "    <tr>\n",
       "      <th>517</th>\n",
       "      <td>head</td>\n",
       "      <td>31</td>\n",
       "    </tr>\n",
       "    <tr>\n",
       "      <th>129</th>\n",
       "      <td>bowl</td>\n",
       "      <td>31</td>\n",
       "    </tr>\n",
       "    <tr>\n",
       "      <th>828</th>\n",
       "      <td>player</td>\n",
       "      <td>30</td>\n",
       "    </tr>\n",
       "    <tr>\n",
       "      <th>596</th>\n",
       "      <td>lake</td>\n",
       "      <td>30</td>\n",
       "    </tr>\n",
       "    <tr>\n",
       "      <th>1197</th>\n",
       "      <td>video</td>\n",
       "      <td>29</td>\n",
       "    </tr>\n",
       "    <tr>\n",
       "      <th>91</th>\n",
       "      <td>bench</td>\n",
       "      <td>29</td>\n",
       "    </tr>\n",
       "    <tr>\n",
       "      <th>412</th>\n",
       "      <td>fenc</td>\n",
       "      <td>29</td>\n",
       "    </tr>\n",
       "    <tr>\n",
       "      <th>455</th>\n",
       "      <td>friend</td>\n",
       "      <td>29</td>\n",
       "    </tr>\n",
       "    <tr>\n",
       "      <th>441</th>\n",
       "      <td>footbal</td>\n",
       "      <td>28</td>\n",
       "    </tr>\n",
       "  </tbody>\n",
       "</table>\n",
       "</div>"
      ],
      "text/plain": [
       "     counterfactual_word  count\n",
       "131                  boy    258\n",
       "475                 girl    255\n",
       "653                  man    241\n",
       "672                  men    162\n",
       "200                  car    161\n",
       "1242               woman    138\n",
       "1161                tree    130\n",
       "1101                tabl    126\n",
       "546                 hous    111\n",
       "791                peopl    103\n",
       "227                chair     86\n",
       "588                  kid     86\n",
       "1219               water     80\n",
       "1069              street     75\n",
       "130                  box     69\n",
       "631                light     68\n",
       "771                 park     68\n",
       "501                  guy     63\n",
       "530                 hill     61\n",
       "359                  dog     60\n",
       "792               person     59\n",
       "907                 road     59\n",
       "413                field     58\n",
       "494                group     55\n",
       "949               school     55\n",
       "1169               truck     53\n",
       "157                build     50\n",
       "50                   bag     49\n",
       "143                bridg     49\n",
       "920                 room     49\n",
       "1073             student     46\n",
       "237                child     44\n",
       "488                grass     43\n",
       "1214                wall     43\n",
       "1236              window     43\n",
       "84                   bed     40\n",
       "238             children     40\n",
       "542                 hors     40\n",
       "1177                  tv     40\n",
       "342                 desk     38\n",
       "76                 beach     38\n",
       "115                 boat     36\n",
       "364                 door     35\n",
       "991                 sign     35\n",
       "906                river     35\n",
       "435               flower     35\n",
       "439                 food     34\n",
       "100                 bike     34\n",
       "527              highway     33\n",
       "44                  babi     32\n",
       "895              restaur     32\n",
       "517                 head     31\n",
       "129                 bowl     31\n",
       "828               player     30\n",
       "596                 lake     30\n",
       "1197               video     29\n",
       "91                 bench     29\n",
       "412                 fenc     29\n",
       "455               friend     29\n",
       "441              footbal     28"
      ]
     },
     "execution_count": 62,
     "metadata": {},
     "output_type": "execute_result"
    }
   ],
   "source": [
    "incorrect_stats_counterfactual_word.head(60)"
   ]
  },
  {
   "cell_type": "code",
   "execution_count": 43,
   "id": "0b3b057a-de41-4064-b9e5-c37955f69173",
   "metadata": {},
   "outputs": [],
   "source": [
    "import nltk\n",
    "from nltk.corpus import wordnet"
   ]
  },
  {
   "cell_type": "code",
   "execution_count": 66,
   "id": "45e3dac2-a22b-4bca-ab19-7a2d5da1dd46",
   "metadata": {},
   "outputs": [
    {
     "name": "stdout",
     "output_type": "stream",
     "text": [
      "0.6\n"
     ]
    }
   ],
   "source": [
    "w1 = wordnet.synset('baby.n.01')\n",
    "w2 = wordnet.synset('child.n.01') # n denotes noun\n",
    "print(w1.wup_similarity(w2))"
   ]
  },
  {
   "cell_type": "code",
   "execution_count": 28,
   "id": "8d2076aa-d37e-421d-a581-1b2b5f9d8b4c",
   "metadata": {},
   "outputs": [
    {
     "data": {
      "text/html": [
       "<div>\n",
       "<style scoped>\n",
       "    .dataframe tbody tr th:only-of-type {\n",
       "        vertical-align: middle;\n",
       "    }\n",
       "\n",
       "    .dataframe tbody tr th {\n",
       "        vertical-align: top;\n",
       "    }\n",
       "\n",
       "    .dataframe thead th {\n",
       "        text-align: right;\n",
       "    }\n",
       "</style>\n",
       "<table border=\"1\" class=\"dataframe\">\n",
       "  <thead>\n",
       "    <tr style=\"text-align: right;\">\n",
       "      <th></th>\n",
       "      <th>original_stem_word</th>\n",
       "      <th>counterfactual_stem_word</th>\n",
       "      <th>count</th>\n",
       "    </tr>\n",
       "  </thead>\n",
       "  <tbody>\n",
       "    <tr>\n",
       "      <th>5281</th>\n",
       "      <td>woman</td>\n",
       "      <td>girl</td>\n",
       "      <td>126</td>\n",
       "    </tr>\n",
       "    <tr>\n",
       "      <th>2739</th>\n",
       "      <td>man</td>\n",
       "      <td>boy</td>\n",
       "      <td>125</td>\n",
       "    </tr>\n",
       "    <tr>\n",
       "      <th>3289</th>\n",
       "      <td>peopl</td>\n",
       "      <td>men</td>\n",
       "      <td>116</td>\n",
       "    </tr>\n",
       "    <tr>\n",
       "      <th>3330</th>\n",
       "      <td>person</td>\n",
       "      <td>man</td>\n",
       "      <td>93</td>\n",
       "    </tr>\n",
       "    <tr>\n",
       "      <th>3339</th>\n",
       "      <td>person</td>\n",
       "      <td>woman</td>\n",
       "      <td>42</td>\n",
       "    </tr>\n",
       "    <tr>\n",
       "      <th>3313</th>\n",
       "      <td>person</td>\n",
       "      <td>boy</td>\n",
       "      <td>37</td>\n",
       "    </tr>\n",
       "    <tr>\n",
       "      <th>1374</th>\n",
       "      <td>coupl</td>\n",
       "      <td>group</td>\n",
       "      <td>36</td>\n",
       "    </tr>\n",
       "    <tr>\n",
       "      <th>3281</th>\n",
       "      <td>peopl</td>\n",
       "      <td>guy</td>\n",
       "      <td>35</td>\n",
       "    </tr>\n",
       "    <tr>\n",
       "      <th>3286</th>\n",
       "      <td>peopl</td>\n",
       "      <td>kid</td>\n",
       "      <td>33</td>\n",
       "    </tr>\n",
       "    <tr>\n",
       "      <th>3325</th>\n",
       "      <td>person</td>\n",
       "      <td>girl</td>\n",
       "      <td>33</td>\n",
       "    </tr>\n",
       "    <tr>\n",
       "      <th>2116</th>\n",
       "      <td>girl</td>\n",
       "      <td>woman</td>\n",
       "      <td>32</td>\n",
       "    </tr>\n",
       "    <tr>\n",
       "      <th>2788</th>\n",
       "      <td>man</td>\n",
       "      <td>woman</td>\n",
       "      <td>30</td>\n",
       "    </tr>\n",
       "    <tr>\n",
       "      <th>2841</th>\n",
       "      <td>men</td>\n",
       "      <td>peopl</td>\n",
       "      <td>29</td>\n",
       "    </tr>\n",
       "    <tr>\n",
       "      <th>3299</th>\n",
       "      <td>peopl</td>\n",
       "      <td>student</td>\n",
       "      <td>27</td>\n",
       "    </tr>\n",
       "    <tr>\n",
       "      <th>5286</th>\n",
       "      <td>woman</td>\n",
       "      <td>man</td>\n",
       "      <td>24</td>\n",
       "    </tr>\n",
       "    <tr>\n",
       "      <th>2769</th>\n",
       "      <td>man</td>\n",
       "      <td>person</td>\n",
       "      <td>24</td>\n",
       "    </tr>\n",
       "    <tr>\n",
       "      <th>754</th>\n",
       "      <td>build</td>\n",
       "      <td>hous</td>\n",
       "      <td>23</td>\n",
       "    </tr>\n",
       "    <tr>\n",
       "      <th>2832</th>\n",
       "      <td>men</td>\n",
       "      <td>boy</td>\n",
       "      <td>21</td>\n",
       "    </tr>\n",
       "    <tr>\n",
       "      <th>5306</th>\n",
       "      <td>women</td>\n",
       "      <td>girl</td>\n",
       "      <td>21</td>\n",
       "    </tr>\n",
       "    <tr>\n",
       "      <th>638</th>\n",
       "      <td>boy</td>\n",
       "      <td>man</td>\n",
       "      <td>21</td>\n",
       "    </tr>\n",
       "    <tr>\n",
       "      <th>4929</th>\n",
       "      <td>truck</td>\n",
       "      <td>car</td>\n",
       "      <td>19</td>\n",
       "    </tr>\n",
       "    <tr>\n",
       "      <th>1101</th>\n",
       "      <td>child</td>\n",
       "      <td>girl</td>\n",
       "      <td>18</td>\n",
       "    </tr>\n",
       "    <tr>\n",
       "      <th>4134</th>\n",
       "      <td>sink</td>\n",
       "      <td>stall</td>\n",
       "      <td>16</td>\n",
       "    </tr>\n",
       "    <tr>\n",
       "      <th>2233</th>\n",
       "      <td>guy</td>\n",
       "      <td>boy</td>\n",
       "      <td>16</td>\n",
       "    </tr>\n",
       "    <tr>\n",
       "      <th>3273</th>\n",
       "      <td>peopl</td>\n",
       "      <td>children</td>\n",
       "      <td>16</td>\n",
       "    </tr>\n",
       "    <tr>\n",
       "      <th>1510</th>\n",
       "      <td>desk</td>\n",
       "      <td>tabl</td>\n",
       "      <td>15</td>\n",
       "    </tr>\n",
       "    <tr>\n",
       "      <th>1375</th>\n",
       "      <td>coupl</td>\n",
       "      <td>herd</td>\n",
       "      <td>15</td>\n",
       "    </tr>\n",
       "    <tr>\n",
       "      <th>706</th>\n",
       "      <td>bu</td>\n",
       "      <td>car</td>\n",
       "      <td>15</td>\n",
       "    </tr>\n",
       "    <tr>\n",
       "      <th>2545</th>\n",
       "      <td>ladi</td>\n",
       "      <td>girl</td>\n",
       "      <td>15</td>\n",
       "    </tr>\n",
       "    <tr>\n",
       "      <th>4092</th>\n",
       "      <td>sign</td>\n",
       "      <td>light</td>\n",
       "      <td>15</td>\n",
       "    </tr>\n",
       "  </tbody>\n",
       "</table>\n",
       "</div>"
      ],
      "text/plain": [
       "     original_stem_word counterfactual_stem_word  count\n",
       "5281              woman                     girl    126\n",
       "2739                man                      boy    125\n",
       "3289              peopl                      men    116\n",
       "3330             person                      man     93\n",
       "3339             person                    woman     42\n",
       "3313             person                      boy     37\n",
       "1374              coupl                    group     36\n",
       "3281              peopl                      guy     35\n",
       "3286              peopl                      kid     33\n",
       "3325             person                     girl     33\n",
       "2116               girl                    woman     32\n",
       "2788                man                    woman     30\n",
       "2841                men                    peopl     29\n",
       "3299              peopl                  student     27\n",
       "5286              woman                      man     24\n",
       "2769                man                   person     24\n",
       "754               build                     hous     23\n",
       "2832                men                      boy     21\n",
       "5306              women                     girl     21\n",
       "638                 boy                      man     21\n",
       "4929              truck                      car     19\n",
       "1101              child                     girl     18\n",
       "4134               sink                    stall     16\n",
       "2233                guy                      boy     16\n",
       "3273              peopl                 children     16\n",
       "1510               desk                     tabl     15\n",
       "1375              coupl                     herd     15\n",
       "706                  bu                      car     15\n",
       "2545               ladi                     girl     15\n",
       "4092               sign                    light     15"
      ]
     },
     "execution_count": 28,
     "metadata": {},
     "output_type": "execute_result"
    }
   ],
   "source": [
    "incorrect_stats.iloc[:30]"
   ]
  },
  {
   "cell_type": "code",
   "execution_count": 31,
   "id": "c52b8cb2-067b-490c-89ae-7746bab8faf1",
   "metadata": {},
   "outputs": [
    {
     "data": {
      "text/plain": [
       "9338"
      ]
     },
     "execution_count": 31,
     "metadata": {},
     "output_type": "execute_result"
    }
   ],
   "source": [
    "incorrect_stats['count'].sum()"
   ]
  },
  {
   "cell_type": "code",
   "execution_count": 16,
   "id": "e5b2a4ce-b041-4f23-92a3-83e207b8c148",
   "metadata": {},
   "outputs": [
    {
     "data": {
      "text/plain": [
       "'children'"
      ]
     },
     "execution_count": 16,
     "metadata": {},
     "output_type": "execute_result"
    }
   ],
   "source": [
    "p.stem('children')"
   ]
  },
  {
   "cell_type": "code",
   "execution_count": 32,
   "id": "2aa4ed07-b68e-4b33-80e4-d547a1d799b6",
   "metadata": {},
   "outputs": [],
   "source": [
    "human_related = ['girl', 'boy', 'man', 'men', 'woman', 'guy', 'kid', 'person', 'peopl', 'child', 'childen', 'coupl', 'group', 'ladi']\n"
   ]
  },
  {
   "cell_type": "code",
   "execution_count": 33,
   "id": "b4e109f2-71f7-476f-bb44-21f3759d417f",
   "metadata": {},
   "outputs": [],
   "source": [
    "human_incorrect_stats = incorrect_stats[(incorrect_stats['original_stem_word'].isin(human_related) )| (incorrect_stats['counterfactual_stem_word'].isin(human_related))]"
   ]
  },
  {
   "cell_type": "code",
   "execution_count": 34,
   "id": "5112cbe0-9f8c-4941-b3db-657dbc61b8d2",
   "metadata": {},
   "outputs": [
    {
     "data": {
      "text/plain": [
       "1864"
      ]
     },
     "execution_count": 34,
     "metadata": {},
     "output_type": "execute_result"
    }
   ],
   "source": [
    "human_incorrect_stats['count'].sum()"
   ]
  },
  {
   "cell_type": "code",
   "execution_count": 35,
   "id": "8b2a092f-618b-44d7-9744-b15f8f46c455",
   "metadata": {},
   "outputs": [],
   "source": [
    "non_human_incorrect_stats = incorrect_stats[(~incorrect_stats['original_stem_word'].isin(human_related) ) & (~incorrect_stats['counterfactual_stem_word'].isin(human_related))]"
   ]
  },
  {
   "cell_type": "code",
   "execution_count": 43,
   "id": "4351496b-bddf-4ed1-8653-1b34e800c276",
   "metadata": {},
   "outputs": [
    {
     "data": {
      "text/html": [
       "<div>\n",
       "<style scoped>\n",
       "    .dataframe tbody tr th:only-of-type {\n",
       "        vertical-align: middle;\n",
       "    }\n",
       "\n",
       "    .dataframe tbody tr th {\n",
       "        vertical-align: top;\n",
       "    }\n",
       "\n",
       "    .dataframe thead th {\n",
       "        text-align: right;\n",
       "    }\n",
       "</style>\n",
       "<table border=\"1\" class=\"dataframe\">\n",
       "  <thead>\n",
       "    <tr style=\"text-align: right;\">\n",
       "      <th></th>\n",
       "      <th>original_stem_word</th>\n",
       "      <th>counterfactual_stem_word</th>\n",
       "      <th>count</th>\n",
       "    </tr>\n",
       "  </thead>\n",
       "  <tbody>\n",
       "    <tr>\n",
       "      <th>754</th>\n",
       "      <td>build</td>\n",
       "      <td>hous</td>\n",
       "      <td>23</td>\n",
       "    </tr>\n",
       "    <tr>\n",
       "      <th>4929</th>\n",
       "      <td>truck</td>\n",
       "      <td>car</td>\n",
       "      <td>19</td>\n",
       "    </tr>\n",
       "    <tr>\n",
       "      <th>4134</th>\n",
       "      <td>sink</td>\n",
       "      <td>stall</td>\n",
       "      <td>16</td>\n",
       "    </tr>\n",
       "    <tr>\n",
       "      <th>1510</th>\n",
       "      <td>desk</td>\n",
       "      <td>tabl</td>\n",
       "      <td>15</td>\n",
       "    </tr>\n",
       "    <tr>\n",
       "      <th>706</th>\n",
       "      <td>bu</td>\n",
       "      <td>car</td>\n",
       "      <td>15</td>\n",
       "    </tr>\n",
       "    <tr>\n",
       "      <th>4092</th>\n",
       "      <td>sign</td>\n",
       "      <td>light</td>\n",
       "      <td>15</td>\n",
       "    </tr>\n",
       "    <tr>\n",
       "      <th>2930</th>\n",
       "      <td>motorcycl</td>\n",
       "      <td>car</td>\n",
       "      <td>15</td>\n",
       "    </tr>\n",
       "    <tr>\n",
       "      <th>4440</th>\n",
       "      <td>street</td>\n",
       "      <td>highway</td>\n",
       "      <td>15</td>\n",
       "    </tr>\n",
       "    <tr>\n",
       "      <th>2518</th>\n",
       "      <td>kitchen</td>\n",
       "      <td>room</td>\n",
       "      <td>14</td>\n",
       "    </tr>\n",
       "    <tr>\n",
       "      <th>4838</th>\n",
       "      <td>train</td>\n",
       "      <td>car</td>\n",
       "      <td>14</td>\n",
       "    </tr>\n",
       "    <tr>\n",
       "      <th>335</th>\n",
       "      <td>bed</td>\n",
       "      <td>chair</td>\n",
       "      <td>13</td>\n",
       "    </tr>\n",
       "    <tr>\n",
       "      <th>4221</th>\n",
       "      <td>soccer</td>\n",
       "      <td>footbal</td>\n",
       "      <td>13</td>\n",
       "    </tr>\n",
       "    <tr>\n",
       "      <th>2379</th>\n",
       "      <td>hotel</td>\n",
       "      <td>live</td>\n",
       "      <td>13</td>\n",
       "    </tr>\n",
       "    <tr>\n",
       "      <th>2670</th>\n",
       "      <td>live</td>\n",
       "      <td>hotel</td>\n",
       "      <td>12</td>\n",
       "    </tr>\n",
       "    <tr>\n",
       "      <th>2296</th>\n",
       "      <td>hay</td>\n",
       "      <td>grass</td>\n",
       "      <td>12</td>\n",
       "    </tr>\n",
       "    <tr>\n",
       "      <th>946</th>\n",
       "      <td>car</td>\n",
       "      <td>truck</td>\n",
       "      <td>12</td>\n",
       "    </tr>\n",
       "    <tr>\n",
       "      <th>233</th>\n",
       "      <td>basebal</td>\n",
       "      <td>yanke</td>\n",
       "      <td>12</td>\n",
       "    </tr>\n",
       "    <tr>\n",
       "      <th>267</th>\n",
       "      <td>bathroom</td>\n",
       "      <td>room</td>\n",
       "      <td>12</td>\n",
       "    </tr>\n",
       "    <tr>\n",
       "      <th>3506</th>\n",
       "      <td>plate</td>\n",
       "      <td>bag</td>\n",
       "      <td>11</td>\n",
       "    </tr>\n",
       "    <tr>\n",
       "      <th>3397</th>\n",
       "      <td>pictur</td>\n",
       "      <td>paint</td>\n",
       "      <td>11</td>\n",
       "    </tr>\n",
       "    <tr>\n",
       "      <th>2928</th>\n",
       "      <td>motorcycl</td>\n",
       "      <td>bike</td>\n",
       "      <td>11</td>\n",
       "    </tr>\n",
       "    <tr>\n",
       "      <th>1001</th>\n",
       "      <td>cat</td>\n",
       "      <td>kitten</td>\n",
       "      <td>11</td>\n",
       "    </tr>\n",
       "    <tr>\n",
       "      <th>1718</th>\n",
       "      <td>eleph</td>\n",
       "      <td>anim</td>\n",
       "      <td>11</td>\n",
       "    </tr>\n",
       "    <tr>\n",
       "      <th>751</th>\n",
       "      <td>build</td>\n",
       "      <td>home</td>\n",
       "      <td>11</td>\n",
       "    </tr>\n",
       "    <tr>\n",
       "      <th>2362</th>\n",
       "      <td>hors</td>\n",
       "      <td>dog</td>\n",
       "      <td>11</td>\n",
       "    </tr>\n",
       "    <tr>\n",
       "      <th>3513</th>\n",
       "      <td>plate</td>\n",
       "      <td>box</td>\n",
       "      <td>11</td>\n",
       "    </tr>\n",
       "    <tr>\n",
       "      <th>716</th>\n",
       "      <td>bu</td>\n",
       "      <td>truck</td>\n",
       "      <td>10</td>\n",
       "    </tr>\n",
       "    <tr>\n",
       "      <th>1851</th>\n",
       "      <td>field</td>\n",
       "      <td>hill</td>\n",
       "      <td>10</td>\n",
       "    </tr>\n",
       "    <tr>\n",
       "      <th>3401</th>\n",
       "      <td>pictur</td>\n",
       "      <td>selfi</td>\n",
       "      <td>10</td>\n",
       "    </tr>\n",
       "    <tr>\n",
       "      <th>4576</th>\n",
       "      <td>tabl</td>\n",
       "      <td>desk</td>\n",
       "      <td>10</td>\n",
       "    </tr>\n",
       "  </tbody>\n",
       "</table>\n",
       "</div>"
      ],
      "text/plain": [
       "     original_stem_word counterfactual_stem_word  count\n",
       "754               build                     hous     23\n",
       "4929              truck                      car     19\n",
       "4134               sink                    stall     16\n",
       "1510               desk                     tabl     15\n",
       "706                  bu                      car     15\n",
       "4092               sign                    light     15\n",
       "2930          motorcycl                      car     15\n",
       "4440             street                  highway     15\n",
       "2518            kitchen                     room     14\n",
       "4838              train                      car     14\n",
       "335                 bed                    chair     13\n",
       "4221             soccer                  footbal     13\n",
       "2379              hotel                     live     13\n",
       "2670               live                    hotel     12\n",
       "2296                hay                    grass     12\n",
       "946                 car                    truck     12\n",
       "233             basebal                    yanke     12\n",
       "267            bathroom                     room     12\n",
       "3506              plate                      bag     11\n",
       "3397             pictur                    paint     11\n",
       "2928          motorcycl                     bike     11\n",
       "1001                cat                   kitten     11\n",
       "1718              eleph                     anim     11\n",
       "751               build                     home     11\n",
       "2362               hors                      dog     11\n",
       "3513              plate                      box     11\n",
       "716                  bu                    truck     10\n",
       "1851              field                     hill     10\n",
       "3401             pictur                    selfi     10\n",
       "4576               tabl                     desk     10"
      ]
     },
     "execution_count": 43,
     "metadata": {},
     "output_type": "execute_result"
    }
   ],
   "source": [
    "non_human_incorrect_stats[:30]"
   ]
  },
  {
   "cell_type": "code",
   "execution_count": 38,
   "id": "c42296df-ac67-4261-8e9c-12a00c56179c",
   "metadata": {},
   "outputs": [],
   "source": [
    "df1 = pd.read_csv('../../CounterfactualCaptionGeneration/frequency_replaced_words.csv')"
   ]
  },
  {
   "cell_type": "code",
   "execution_count": 40,
   "id": "c915f690-acff-44f4-8881-b678faeed4a0",
   "metadata": {},
   "outputs": [],
   "source": [
    "df2 = df1[(df1['origin_stem_word'].isin(human_related) )| (df1['counterfactual_stem_word'].isin(human_related))]"
   ]
  },
  {
   "cell_type": "code",
   "execution_count": 42,
   "id": "5d0237cd-6e3c-4b32-8004-8a4c5a04b47a",
   "metadata": {},
   "outputs": [
    {
     "data": {
      "text/plain": [
       "4117"
      ]
     },
     "execution_count": 42,
     "metadata": {},
     "output_type": "execute_result"
    }
   ],
   "source": [
    "df2['count'].sum()"
   ]
  },
  {
   "cell_type": "code",
   "execution_count": null,
   "id": "22830cf5-3414-473a-97de-104e10d5a485",
   "metadata": {},
   "outputs": [],
   "source": []
  }
 ],
 "metadata": {
  "kernelspec": {
   "display_name": "counterfactual",
   "language": "python",
   "name": "counterfactual"
  },
  "language_info": {
   "codemirror_mode": {
    "name": "ipython",
    "version": 3
   },
   "file_extension": ".py",
   "mimetype": "text/x-python",
   "name": "python",
   "nbconvert_exporter": "python",
   "pygments_lexer": "ipython3",
   "version": "3.8.15"
  }
 },
 "nbformat": 4,
 "nbformat_minor": 5
}
