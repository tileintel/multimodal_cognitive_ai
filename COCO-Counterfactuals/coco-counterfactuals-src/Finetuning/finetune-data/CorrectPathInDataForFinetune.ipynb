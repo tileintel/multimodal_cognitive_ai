{
 "cells": [
  {
   "cell_type": "code",
   "execution_count": 1,
   "id": "ef0db9d5-fa97-41e6-8b5f-40ab31949fb0",
   "metadata": {},
   "outputs": [],
   "source": [
    "import pandas as pd\n",
    "import os\n",
    "import os.path as osp"
   ]
  },
  {
   "cell_type": "code",
   "execution_count": 47,
   "id": "0d36ebc2-90b2-4abb-93fa-cea46d7c4f16",
   "metadata": {},
   "outputs": [],
   "source": [
    "data = './dev_mscoco.csv'"
   ]
  },
  {
   "cell_type": "code",
   "execution_count": 48,
   "id": "d8ca36e6-668a-4104-9720-ae3b2c9b5dd4",
   "metadata": {},
   "outputs": [],
   "source": [
    "df = pd.read_csv(data)"
   ]
  },
  {
   "cell_type": "code",
   "execution_count": 49,
   "id": "7155c333-f000-4628-a099-9b39c3b423f4",
   "metadata": {},
   "outputs": [
    {
     "data": {
      "text/html": [
       "<div>\n",
       "<style scoped>\n",
       "    .dataframe tbody tr th:only-of-type {\n",
       "        vertical-align: middle;\n",
       "    }\n",
       "\n",
       "    .dataframe tbody tr th {\n",
       "        vertical-align: top;\n",
       "    }\n",
       "\n",
       "    .dataframe thead th {\n",
       "        text-align: right;\n",
       "    }\n",
       "</style>\n",
       "<table border=\"1\" class=\"dataframe\">\n",
       "  <thead>\n",
       "    <tr style=\"text-align: right;\">\n",
       "      <th></th>\n",
       "      <th>image_path</th>\n",
       "      <th>caption</th>\n",
       "    </tr>\n",
       "  </thead>\n",
       "  <tbody>\n",
       "    <tr>\n",
       "      <th>0</th>\n",
       "      <td>data/val2017/000000054628.jpg</td>\n",
       "      <td>Nicely decorated three tier wedding cake with ...</td>\n",
       "    </tr>\n",
       "    <tr>\n",
       "      <th>1</th>\n",
       "      <td>data/val2017/000000215259.jpg</td>\n",
       "      <td>two people playing video game while standing o...</td>\n",
       "    </tr>\n",
       "    <tr>\n",
       "      <th>2</th>\n",
       "      <td>data/val2017/000000460160.jpg</td>\n",
       "      <td>A bird cleans itself next to a body of water.</td>\n",
       "    </tr>\n",
       "    <tr>\n",
       "      <th>3</th>\n",
       "      <td>data/val2017/000000162035.jpg</td>\n",
       "      <td>A fold out sign sitting on a rainy sidewalk.</td>\n",
       "    </tr>\n",
       "    <tr>\n",
       "      <th>4</th>\n",
       "      <td>data/val2017/000000548267.jpg</td>\n",
       "      <td>A large grassy pasture with grazing sheep in it</td>\n",
       "    </tr>\n",
       "  </tbody>\n",
       "</table>\n",
       "</div>"
      ],
      "text/plain": [
       "                      image_path  \\\n",
       "0  data/val2017/000000054628.jpg   \n",
       "1  data/val2017/000000215259.jpg   \n",
       "2  data/val2017/000000460160.jpg   \n",
       "3  data/val2017/000000162035.jpg   \n",
       "4  data/val2017/000000548267.jpg   \n",
       "\n",
       "                                             caption  \n",
       "0  Nicely decorated three tier wedding cake with ...  \n",
       "1  two people playing video game while standing o...  \n",
       "2     A bird cleans itself next to a body of water.   \n",
       "3       A fold out sign sitting on a rainy sidewalk.  \n",
       "4    A large grassy pasture with grazing sheep in it  "
      ]
     },
     "execution_count": 49,
     "metadata": {},
     "output_type": "execute_result"
    }
   ],
   "source": [
    "df.head()"
   ]
  },
  {
   "cell_type": "code",
   "execution_count": 50,
   "id": "a7e9550e-c20b-4126-bed0-0c4a6c29bf3a",
   "metadata": {},
   "outputs": [],
   "source": [
    "head_path = '/export/share/datasets/COCO2017'"
   ]
  },
  {
   "cell_type": "code",
   "execution_count": 51,
   "id": "ac89401c-53a2-4f85-a4b8-c1626a91182b",
   "metadata": {},
   "outputs": [],
   "source": [
    "im_path = df['image_path'].to_list()"
   ]
  },
  {
   "cell_type": "code",
   "execution_count": 52,
   "id": "523c4a9f-ce72-4b43-bbf8-4ffa4e55a46b",
   "metadata": {},
   "outputs": [],
   "source": [
    "def update_path(path):\n",
    "    if '../..' in path:\n",
    "        return path\n",
    "    else:\n",
    "        fn = path.split('/')[-1]\n",
    "        return osp.join(head_path, 'val2017', fn)"
   ]
  },
  {
   "cell_type": "code",
   "execution_count": 53,
   "id": "0cb78396-0099-43a5-9ab5-9779a526f3c2",
   "metadata": {},
   "outputs": [],
   "source": [
    "new_path = [update_path(p) for p in im_path]"
   ]
  },
  {
   "cell_type": "code",
   "execution_count": 54,
   "id": "35fa30ff-2d53-42a9-b6da-5f3240bb175f",
   "metadata": {},
   "outputs": [],
   "source": [
    "df['image_path'] = new_path"
   ]
  },
  {
   "cell_type": "code",
   "execution_count": 55,
   "id": "eb5887dc-badf-4694-80db-9bcda64b7698",
   "metadata": {},
   "outputs": [],
   "source": [
    "df.to_csv(data, header=True, index=False)"
   ]
  },
  {
   "cell_type": "code",
   "execution_count": 3,
   "id": "7fc6f630-f493-4c0f-9402-755010591360",
   "metadata": {},
   "outputs": [
    {
     "name": "stderr",
     "output_type": "stream",
     "text": [
      "Using custom data configuration default-a6301f8adc14bc20\n"
     ]
    },
    {
     "name": "stdout",
     "output_type": "stream",
     "text": [
      "Downloading and preparing dataset csv/default to /home/tieple/.cache/huggingface/datasets/csv/default-a6301f8adc14bc20/0.0.0/6b34fb8fcf56f7c8ba51dc895bfa2bfbe43546f190a60fcf74bb5e8afdcc2317...\n"
     ]
    },
    {
     "data": {
      "application/vnd.jupyter.widget-view+json": {
       "model_id": "fc189d796e474c468ee8acc7425b78ca",
       "version_major": 2,
       "version_minor": 0
      },
      "text/plain": [
       "Downloading data files:   0%|          | 0/1 [00:00<?, ?it/s]"
      ]
     },
     "metadata": {},
     "output_type": "display_data"
    },
    {
     "data": {
      "application/vnd.jupyter.widget-view+json": {
       "model_id": "cb158088f26540859924d7f93af216ee",
       "version_major": 2,
       "version_minor": 0
      },
      "text/plain": [
       "Extracting data files:   0%|          | 0/1 [00:00<?, ?it/s]"
      ]
     },
     "metadata": {},
     "output_type": "display_data"
    },
    {
     "data": {
      "application/vnd.jupyter.widget-view+json": {
       "model_id": "",
       "version_major": 2,
       "version_minor": 0
      },
      "text/plain": [
       "Generating train split: 0 examples [00:00, ? examples/s]"
      ]
     },
     "metadata": {},
     "output_type": "display_data"
    },
    {
     "name": "stderr",
     "output_type": "stream",
     "text": [
      "/home/tieple/anaconda/envs/counterfactual/lib/python3.8/site-packages/datasets/download/streaming_download_manager.py:714: FutureWarning: the 'mangle_dupe_cols' keyword is deprecated and will be removed in a future version. Please take steps to stop the use of 'mangle_dupe_cols'\n",
      "  return pd.read_csv(xopen(filepath_or_buffer, \"rb\", use_auth_token=use_auth_token), **kwargs)\n"
     ]
    },
    {
     "name": "stdout",
     "output_type": "stream",
     "text": [
      "Dataset csv downloaded and prepared to /home/tieple/.cache/huggingface/datasets/csv/default-a6301f8adc14bc20/0.0.0/6b34fb8fcf56f7c8ba51dc895bfa2bfbe43546f190a60fcf74bb5e8afdcc2317. Subsequent calls will reuse this data.\n"
     ]
    },
    {
     "data": {
      "application/vnd.jupyter.widget-view+json": {
       "model_id": "3e93ac11951d4e77a71b0bf5f2055034",
       "version_major": 2,
       "version_minor": 0
      },
      "text/plain": [
       "  0%|          | 0/1 [00:00<?, ?it/s]"
      ]
     },
     "metadata": {},
     "output_type": "display_data"
    }
   ],
   "source": [
    "from datasets import load_dataset\n"
   ]
  },
  {
   "cell_type": "code",
   "execution_count": 46,
   "id": "409d55cb-34b9-45d5-9272-50772a286d26",
   "metadata": {},
   "outputs": [
    {
     "name": "stderr",
     "output_type": "stream",
     "text": [
      "Using custom data configuration default-a6301f8adc14bc20\n",
      "Found cached dataset csv (/home/tieple/.cache/huggingface/datasets/csv/default-a6301f8adc14bc20/0.0.0/6b34fb8fcf56f7c8ba51dc895bfa2bfbe43546f190a60fcf74bb5e8afdcc2317)\n"
     ]
    },
    {
     "data": {
      "application/vnd.jupyter.widget-view+json": {
       "model_id": "cd91658ae3864e4da8758864ce299a7d",
       "version_major": 2,
       "version_minor": 0
      },
      "text/plain": [
       "  0%|          | 0/1 [00:00<?, ?it/s]"
      ]
     },
     "metadata": {},
     "output_type": "display_data"
    }
   ],
   "source": [
    "dataset = load_dataset(\"csv\", data_files='./dev_mscoco.csv')"
   ]
  },
  {
   "cell_type": "code",
   "execution_count": 47,
   "id": "9b93a255-4dbf-478b-90b3-946e127e7218",
   "metadata": {},
   "outputs": [
    {
     "data": {
      "text/plain": [
       "DatasetDict({\n",
       "    train: Dataset({\n",
       "        features: ['image_path', 'caption'],\n",
       "        num_rows: 3482\n",
       "    })\n",
       "})"
      ]
     },
     "execution_count": 47,
     "metadata": {},
     "output_type": "execute_result"
    }
   ],
   "source": [
    "dataset"
   ]
  },
  {
   "cell_type": "code",
   "execution_count": 48,
   "id": "a3b76239-1fef-49ac-879e-b4c858e1b339",
   "metadata": {},
   "outputs": [],
   "source": [
    "split = dataset['train'].train_test_split(test_size=0.5)"
   ]
  },
  {
   "cell_type": "code",
   "execution_count": 49,
   "id": "90e02f84-01ea-4784-8d43-6735b18a56f3",
   "metadata": {},
   "outputs": [
    {
     "data": {
      "text/plain": [
       "DatasetDict({\n",
       "    train: Dataset({\n",
       "        features: ['image_path', 'caption'],\n",
       "        num_rows: 1741\n",
       "    })\n",
       "    test: Dataset({\n",
       "        features: ['image_path', 'caption'],\n",
       "        num_rows: 1741\n",
       "    })\n",
       "})"
      ]
     },
     "execution_count": 49,
     "metadata": {},
     "output_type": "execute_result"
    }
   ],
   "source": [
    "split"
   ]
  },
  {
   "cell_type": "code",
   "execution_count": 50,
   "id": "f985cf98-4ce4-4fb1-9feb-aaa8e1324a1b",
   "metadata": {},
   "outputs": [
    {
     "data": {
      "application/vnd.jupyter.widget-view+json": {
       "model_id": "703269f4e25948ab87b87d2a9f256b17",
       "version_major": 2,
       "version_minor": 0
      },
      "text/plain": [
       "Creating CSV from Arrow format:   0%|          | 0/2 [00:00<?, ?ba/s]"
      ]
     },
     "metadata": {},
     "output_type": "display_data"
    },
    {
     "data": {
      "text/plain": [
       "192782"
      ]
     },
     "execution_count": 50,
     "metadata": {},
     "output_type": "execute_result"
    }
   ],
   "source": [
    "split['train'].to_csv('./splitted_dev_mscoco.csv', index=False, header=True)"
   ]
  },
  {
   "cell_type": "code",
   "execution_count": 51,
   "id": "8b9beb46-f067-4477-9d39-af3b07dcc776",
   "metadata": {},
   "outputs": [
    {
     "data": {
      "application/vnd.jupyter.widget-view+json": {
       "model_id": "3b91a3a4b87e4ca7bb80e46c42174212",
       "version_major": 2,
       "version_minor": 0
      },
      "text/plain": [
       "Creating CSV from Arrow format:   0%|          | 0/2 [00:00<?, ?ba/s]"
      ]
     },
     "metadata": {},
     "output_type": "display_data"
    },
    {
     "data": {
      "text/plain": [
       "193477"
      ]
     },
     "execution_count": 51,
     "metadata": {},
     "output_type": "execute_result"
    }
   ],
   "source": [
    "split['test'].to_csv('./splitted_test_mscoco.csv', index=False, header=True)"
   ]
  },
  {
   "cell_type": "code",
   "execution_count": null,
   "id": "72fb7ebb-2467-4e57-b7a8-f8a740c12708",
   "metadata": {},
   "outputs": [],
   "source": []
  }
 ],
 "metadata": {
  "kernelspec": {
   "display_name": "counterfactual",
   "language": "python",
   "name": "counterfactual"
  },
  "language_info": {
   "codemirror_mode": {
    "name": "ipython",
    "version": 3
   },
   "file_extension": ".py",
   "mimetype": "text/x-python",
   "name": "python",
   "nbconvert_exporter": "python",
   "pygments_lexer": "ipython3",
   "version": "3.8.15"
  }
 },
 "nbformat": 4,
 "nbformat_minor": 5
}
