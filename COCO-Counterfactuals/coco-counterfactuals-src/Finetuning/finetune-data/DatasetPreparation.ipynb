{
 "cells": [
  {
   "cell_type": "code",
   "execution_count": 1,
   "id": "e3060184-9975-4a1c-ac09-1691224d09c0",
   "metadata": {},
   "outputs": [],
   "source": [
    "import pandas as pd\n",
    "import os \n",
    "import os.path as osp\n",
    "from datasets import load_dataset"
   ]
  },
  {
   "cell_type": "code",
   "execution_count": 3,
   "id": "414873fa-ca29-4e2b-a116-d98200d312bf",
   "metadata": {},
   "outputs": [],
   "source": [
    "filename = './coco-cfs.csv'"
   ]
  },
  {
   "cell_type": "code",
   "execution_count": 2,
   "id": "2431583f-6d67-4154-a7fa-6b70d591378e",
   "metadata": {},
   "outputs": [
    {
     "name": "stderr",
     "output_type": "stream",
     "text": [
      "Using custom data configuration default-98e0f3b42e39c76d\n"
     ]
    },
    {
     "name": "stdout",
     "output_type": "stream",
     "text": [
      "Downloading and preparing dataset csv/default to /home/tieple/.cache/huggingface/datasets/csv/default-98e0f3b42e39c76d/0.0.0/6b34fb8fcf56f7c8ba51dc895bfa2bfbe43546f190a60fcf74bb5e8afdcc2317...\n"
     ]
    },
    {
     "data": {
      "application/vnd.jupyter.widget-view+json": {
       "model_id": "47ab2485ecfc4bf48fc745e1f5e7bf5e",
       "version_major": 2,
       "version_minor": 0
      },
      "text/plain": [
       "Downloading data files:   0%|          | 0/1 [00:00<?, ?it/s]"
      ]
     },
     "metadata": {},
     "output_type": "display_data"
    },
    {
     "data": {
      "application/vnd.jupyter.widget-view+json": {
       "model_id": "16e978fe09524e81ae7fab3d3f0b2c53",
       "version_major": 2,
       "version_minor": 0
      },
      "text/plain": [
       "Extracting data files:   0%|          | 0/1 [00:00<?, ?it/s]"
      ]
     },
     "metadata": {},
     "output_type": "display_data"
    },
    {
     "data": {
      "application/vnd.jupyter.widget-view+json": {
       "model_id": "",
       "version_major": 2,
       "version_minor": 0
      },
      "text/plain": [
       "Generating train split: 0 examples [00:00, ? examples/s]"
      ]
     },
     "metadata": {},
     "output_type": "display_data"
    },
    {
     "name": "stderr",
     "output_type": "stream",
     "text": [
      "/home/tieple/anaconda/envs/counterfactual/lib/python3.8/site-packages/datasets/download/streaming_download_manager.py:714: FutureWarning: the 'mangle_dupe_cols' keyword is deprecated and will be removed in a future version. Please take steps to stop the use of 'mangle_dupe_cols'\n",
      "  return pd.read_csv(xopen(filepath_or_buffer, \"rb\", use_auth_token=use_auth_token), **kwargs)\n"
     ]
    },
    {
     "name": "stdout",
     "output_type": "stream",
     "text": [
      "Dataset csv downloaded and prepared to /home/tieple/.cache/huggingface/datasets/csv/default-98e0f3b42e39c76d/0.0.0/6b34fb8fcf56f7c8ba51dc895bfa2bfbe43546f190a60fcf74bb5e8afdcc2317. Subsequent calls will reuse this data.\n"
     ]
    },
    {
     "data": {
      "application/vnd.jupyter.widget-view+json": {
       "model_id": "97daf606e644486ab46fb1a3c8341750",
       "version_major": 2,
       "version_minor": 0
      },
      "text/plain": [
       "  0%|          | 0/1 [00:00<?, ?it/s]"
      ]
     },
     "metadata": {},
     "output_type": "display_data"
    }
   ],
   "source": [
    "dataset = load_dataset(\"csv\", data_files='./coco-cfs.csv')"
   ]
  },
  {
   "cell_type": "code",
   "execution_count": 5,
   "id": "e64107b0-6dd3-4cce-a2d8-3b2e43211b3e",
   "metadata": {},
   "outputs": [],
   "source": [
    "coco_cfs = pd.read_csv(filename)"
   ]
  },
  {
   "cell_type": "code",
   "execution_count": 10,
   "id": "d2cfa338-4a6a-44bd-a86a-e96d3e3c6b7d",
   "metadata": {},
   "outputs": [],
   "source": [
    "coco_cfs['is_counter'] = [True if 'counterfactual-caption' in image_path else False for image_path in coco_cfs['image_path']]"
   ]
  },
  {
   "cell_type": "code",
   "execution_count": 12,
   "id": "ae67ac6d-ede0-4dd6-9388-8ac9b2fd6ffe",
   "metadata": {},
   "outputs": [],
   "source": [
    "coco_cfs_original = coco_cfs[coco_cfs['is_counter'] == False]"
   ]
  },
  {
   "cell_type": "code",
   "execution_count": 13,
   "id": "c1224f5a-1af3-488f-b865-dccc857fe254",
   "metadata": {},
   "outputs": [],
   "source": [
    "coco_cfs_original.to_csv('./split-coco-cfs/coco-cfs-origin-caption.csv', header=True, index=False)"
   ]
  },
  {
   "cell_type": "code",
   "execution_count": 14,
   "id": "e8310f58-8c19-4253-a694-52017fca84ee",
   "metadata": {},
   "outputs": [
    {
     "name": "stderr",
     "output_type": "stream",
     "text": [
      "Using custom data configuration default-51fefc49d06a49b0\n"
     ]
    },
    {
     "name": "stdout",
     "output_type": "stream",
     "text": [
      "Downloading and preparing dataset csv/default to /home/tieple/.cache/huggingface/datasets/csv/default-51fefc49d06a49b0/0.0.0/6b34fb8fcf56f7c8ba51dc895bfa2bfbe43546f190a60fcf74bb5e8afdcc2317...\n"
     ]
    },
    {
     "data": {
      "application/vnd.jupyter.widget-view+json": {
       "model_id": "813d7bf9715f438999867847084b6a3c",
       "version_major": 2,
       "version_minor": 0
      },
      "text/plain": [
       "Downloading data files:   0%|          | 0/1 [00:00<?, ?it/s]"
      ]
     },
     "metadata": {},
     "output_type": "display_data"
    },
    {
     "data": {
      "application/vnd.jupyter.widget-view+json": {
       "model_id": "372f42fab4474eca9624d30ef94ded07",
       "version_major": 2,
       "version_minor": 0
      },
      "text/plain": [
       "Extracting data files:   0%|          | 0/1 [00:00<?, ?it/s]"
      ]
     },
     "metadata": {},
     "output_type": "display_data"
    },
    {
     "data": {
      "application/vnd.jupyter.widget-view+json": {
       "model_id": "",
       "version_major": 2,
       "version_minor": 0
      },
      "text/plain": [
       "Generating train split: 0 examples [00:00, ? examples/s]"
      ]
     },
     "metadata": {},
     "output_type": "display_data"
    },
    {
     "name": "stderr",
     "output_type": "stream",
     "text": [
      "/home/tieple/anaconda/envs/counterfactual/lib/python3.8/site-packages/datasets/download/streaming_download_manager.py:714: FutureWarning: the 'mangle_dupe_cols' keyword is deprecated and will be removed in a future version. Please take steps to stop the use of 'mangle_dupe_cols'\n",
      "  return pd.read_csv(xopen(filepath_or_buffer, \"rb\", use_auth_token=use_auth_token), **kwargs)\n"
     ]
    },
    {
     "name": "stdout",
     "output_type": "stream",
     "text": [
      "Dataset csv downloaded and prepared to /home/tieple/.cache/huggingface/datasets/csv/default-51fefc49d06a49b0/0.0.0/6b34fb8fcf56f7c8ba51dc895bfa2bfbe43546f190a60fcf74bb5e8afdcc2317. Subsequent calls will reuse this data.\n"
     ]
    },
    {
     "data": {
      "application/vnd.jupyter.widget-view+json": {
       "model_id": "54352e5afb194936af398dd2dd7d52d6",
       "version_major": 2,
       "version_minor": 0
      },
      "text/plain": [
       "  0%|          | 0/1 [00:00<?, ?it/s]"
      ]
     },
     "metadata": {},
     "output_type": "display_data"
    }
   ],
   "source": [
    "dataset = load_dataset(\"csv\", data_files='./split-coco-cfs/coco-cfs-origin-caption.csv')"
   ]
  },
  {
   "cell_type": "code",
   "execution_count": 15,
   "id": "ab405ff3-1362-48d1-b160-c4890673d965",
   "metadata": {},
   "outputs": [
    {
     "data": {
      "text/plain": [
       "DatasetDict({\n",
       "    train: Dataset({\n",
       "        features: ['image_path', 'caption', 'is_counter'],\n",
       "        num_rows: 17410\n",
       "    })\n",
       "})"
      ]
     },
     "execution_count": 15,
     "metadata": {},
     "output_type": "execute_result"
    }
   ],
   "source": [
    "dataset"
   ]
  },
  {
   "cell_type": "code",
   "execution_count": 16,
   "id": "35c67173-8836-4a59-837b-d0d73ace75b4",
   "metadata": {},
   "outputs": [],
   "source": [
    "split_ds = dataset['train'].train_test_split(test_size=0.3)"
   ]
  },
  {
   "cell_type": "code",
   "execution_count": 17,
   "id": "683b1995-a8eb-4d1d-aa48-f8b284d5bafe",
   "metadata": {},
   "outputs": [
    {
     "data": {
      "text/plain": [
       "DatasetDict({\n",
       "    train: Dataset({\n",
       "        features: ['image_path', 'caption', 'is_counter'],\n",
       "        num_rows: 12187\n",
       "    })\n",
       "    test: Dataset({\n",
       "        features: ['image_path', 'caption', 'is_counter'],\n",
       "        num_rows: 5223\n",
       "    })\n",
       "})"
      ]
     },
     "execution_count": 17,
     "metadata": {},
     "output_type": "execute_result"
    }
   ],
   "source": [
    "split_ds"
   ]
  },
  {
   "cell_type": "code",
   "execution_count": 21,
   "id": "831dd783-1c15-4a8e-b7aa-ec20cb34150e",
   "metadata": {},
   "outputs": [
    {
     "data": {
      "application/vnd.jupyter.widget-view+json": {
       "model_id": "7e7b5c2c5b884f35b63df3a77a97287c",
       "version_major": 2,
       "version_minor": 0
      },
      "text/plain": [
       "Creating CSV from Arrow format:   0%|          | 0/13 [00:00<?, ?ba/s]"
      ]
     },
     "metadata": {},
     "output_type": "display_data"
    },
    {
     "data": {
      "text/plain": [
       "1689201"
      ]
     },
     "execution_count": 21,
     "metadata": {},
     "output_type": "execute_result"
    }
   ],
   "source": [
    "split_ds['train'].to_csv('./split-coco-cfs/train-coco-cfs-origin-caption.csv', header=True, index=False)"
   ]
  },
  {
   "cell_type": "code",
   "execution_count": 22,
   "id": "aa15fa97-39fe-46ac-b740-5075f27ebffb",
   "metadata": {},
   "outputs": [
    {
     "data": {
      "application/vnd.jupyter.widget-view+json": {
       "model_id": "94b0e9dcd9e34c84ad728232632b36f2",
       "version_major": 2,
       "version_minor": 0
      },
      "text/plain": [
       "Creating CSV from Arrow format:   0%|          | 0/6 [00:00<?, ?ba/s]"
      ]
     },
     "metadata": {},
     "output_type": "display_data"
    },
    {
     "data": {
      "text/plain": [
       "722910"
      ]
     },
     "execution_count": 22,
     "metadata": {},
     "output_type": "execute_result"
    }
   ],
   "source": [
    "split_ds['test'].to_csv('./split-coco-cfs/test-coco-cfs-origin-caption.csv', header=True, index=False)"
   ]
  },
  {
   "cell_type": "code",
   "execution_count": 23,
   "id": "83a53acf-f734-45d5-b6e7-563c216cc2d6",
   "metadata": {},
   "outputs": [],
   "source": [
    "train_coco_cfs_original_caption = pd.read_csv('./split-coco-cfs/train-coco-cfs-origin-caption.csv')"
   ]
  },
  {
   "cell_type": "code",
   "execution_count": 25,
   "id": "242c3bf9-f6e3-46e0-a5cf-42f47c79a14b",
   "metadata": {},
   "outputs": [],
   "source": [
    "train_coco_cfs_original_caption['coco_index'] = [path.split('/')[-1] for path in train_coco_cfs_original_caption['image_path']]"
   ]
  },
  {
   "cell_type": "code",
   "execution_count": 34,
   "id": "c8fffe80-698a-40ee-b30c-b6387681b549",
   "metadata": {},
   "outputs": [],
   "source": [
    "train_coco_cfs_original_caption_index_list = train_coco_cfs_original_caption['coco_index'].to_list()"
   ]
  },
  {
   "cell_type": "code",
   "execution_count": 28,
   "id": "4e404754-9be8-404a-aeb9-c0f4aab85d11",
   "metadata": {},
   "outputs": [],
   "source": [
    "coco_cfs_counter = coco_cfs[coco_cfs['is_counter'] == True]"
   ]
  },
  {
   "cell_type": "code",
   "execution_count": 29,
   "id": "34177a6e-b0ac-48ce-a972-c0dd0ba2b547",
   "metadata": {},
   "outputs": [
    {
     "name": "stderr",
     "output_type": "stream",
     "text": [
      "/scratch/slurm-709200/ipykernel_845536/1325441633.py:1: SettingWithCopyWarning: \n",
      "A value is trying to be set on a copy of a slice from a DataFrame.\n",
      "Try using .loc[row_indexer,col_indexer] = value instead\n",
      "\n",
      "See the caveats in the documentation: https://pandas.pydata.org/pandas-docs/stable/user_guide/indexing.html#returning-a-view-versus-a-copy\n",
      "  coco_cfs_counter['coco_index'] = [path.split('/')[-1] for path in coco_cfs_counter['image_path']]\n"
     ]
    }
   ],
   "source": [
    "coco_cfs_counter['coco_index'] = [path.split('/')[-1] for path in coco_cfs_counter['image_path']]"
   ]
  },
  {
   "cell_type": "code",
   "execution_count": 37,
   "id": "912936d1-da4b-498f-b27b-d750f4842e25",
   "metadata": {},
   "outputs": [
    {
     "name": "stderr",
     "output_type": "stream",
     "text": [
      "/scratch/slurm-709200/ipykernel_845536/596460689.py:1: SettingWithCopyWarning: \n",
      "A value is trying to be set on a copy of a slice from a DataFrame.\n",
      "Try using .loc[row_indexer,col_indexer] = value instead\n",
      "\n",
      "See the caveats in the documentation: https://pandas.pydata.org/pandas-docs/stable/user_guide/indexing.html#returning-a-view-versus-a-copy\n",
      "  coco_cfs_counter['in_train'] = [True if index in train_coco_cfs_original_caption_index_list else False for index in coco_cfs_counter['coco_index']]\n"
     ]
    }
   ],
   "source": [
    "coco_cfs_counter['in_train'] = [True if index in train_coco_cfs_original_caption_index_list else False for index in coco_cfs_counter['coco_index']]"
   ]
  },
  {
   "cell_type": "code",
   "execution_count": 36,
   "id": "2e9cc7cc-dd49-43ab-bc20-4175dc4ba8bc",
   "metadata": {},
   "outputs": [],
   "source": [
    "# train_coco_cfs_original_caption_index_list"
   ]
  },
  {
   "cell_type": "code",
   "execution_count": 38,
   "id": "603f00d8-c352-4b05-ac8e-2e7cf251892d",
   "metadata": {},
   "outputs": [
    {
     "data": {
      "text/html": [
       "<div>\n",
       "<style scoped>\n",
       "    .dataframe tbody tr th:only-of-type {\n",
       "        vertical-align: middle;\n",
       "    }\n",
       "\n",
       "    .dataframe tbody tr th {\n",
       "        vertical-align: top;\n",
       "    }\n",
       "\n",
       "    .dataframe thead th {\n",
       "        text-align: right;\n",
       "    }\n",
       "</style>\n",
       "<table border=\"1\" class=\"dataframe\">\n",
       "  <thead>\n",
       "    <tr style=\"text-align: right;\">\n",
       "      <th></th>\n",
       "      <th>image_path</th>\n",
       "      <th>caption</th>\n",
       "      <th>is_counter</th>\n",
       "      <th>coco_index</th>\n",
       "      <th>in_train</th>\n",
       "    </tr>\n",
       "  </thead>\n",
       "  <tbody>\n",
       "    <tr>\n",
       "      <th>1</th>\n",
       "      <td>../../coco-counterfactuals/synthetic-images-fo...</td>\n",
       "      <td>A baker is cutting into a cake with a large kn...</td>\n",
       "      <td>True</td>\n",
       "      <td>158956_0.jpg</td>\n",
       "      <td>True</td>\n",
       "    </tr>\n",
       "    <tr>\n",
       "      <th>3</th>\n",
       "      <td>../../coco-counterfactuals/synthetic-images-fo...</td>\n",
       "      <td>A man and woman brushing their teeth and takin...</td>\n",
       "      <td>True</td>\n",
       "      <td>164602_4.jpg</td>\n",
       "      <td>False</td>\n",
       "    </tr>\n",
       "    <tr>\n",
       "      <th>5</th>\n",
       "      <td>../../coco-counterfactuals/synthetic-images-fo...</td>\n",
       "      <td>Some people that are wandering around a lot of...</td>\n",
       "      <td>True</td>\n",
       "      <td>60823_0.jpg</td>\n",
       "      <td>True</td>\n",
       "    </tr>\n",
       "    <tr>\n",
       "      <th>7</th>\n",
       "      <td>../../coco-counterfactuals/synthetic-images-fo...</td>\n",
       "      <td>A baseball bat is in a box looking out over th...</td>\n",
       "      <td>True</td>\n",
       "      <td>279714_2.jpg</td>\n",
       "      <td>True</td>\n",
       "    </tr>\n",
       "    <tr>\n",
       "      <th>9</th>\n",
       "      <td>../../coco-counterfactuals/synthetic-images-fo...</td>\n",
       "      <td>A very cute pair of sheep in a grassy field.</td>\n",
       "      <td>True</td>\n",
       "      <td>375763_0.jpg</td>\n",
       "      <td>True</td>\n",
       "    </tr>\n",
       "    <tr>\n",
       "      <th>...</th>\n",
       "      <td>...</td>\n",
       "      <td>...</td>\n",
       "      <td>...</td>\n",
       "      <td>...</td>\n",
       "      <td>...</td>\n",
       "    </tr>\n",
       "    <tr>\n",
       "      <th>34811</th>\n",
       "      <td>../../coco-counterfactuals/synthetic-images-fo...</td>\n",
       "      <td>Motorcyclists are riding down the highway with...</td>\n",
       "      <td>True</td>\n",
       "      <td>534827_2.jpg</td>\n",
       "      <td>False</td>\n",
       "    </tr>\n",
       "    <tr>\n",
       "      <th>34813</th>\n",
       "      <td>../../coco-counterfactuals/synthetic-images-fo...</td>\n",
       "      <td>A wooden bench in a dirt field with a tree.</td>\n",
       "      <td>True</td>\n",
       "      <td>162130_4.jpg</td>\n",
       "      <td>True</td>\n",
       "    </tr>\n",
       "    <tr>\n",
       "      <th>34815</th>\n",
       "      <td>../../coco-counterfactuals/synthetic-images-fo...</td>\n",
       "      <td>A black cat licks a doughnut in front of a yel...</td>\n",
       "      <td>True</td>\n",
       "      <td>572388_3.jpg</td>\n",
       "      <td>True</td>\n",
       "    </tr>\n",
       "    <tr>\n",
       "      <th>34817</th>\n",
       "      <td>../../coco-counterfactuals/synthetic-images-fo...</td>\n",
       "      <td>A tour bus is driving down the road next to bu...</td>\n",
       "      <td>True</td>\n",
       "      <td>344029_3.jpg</td>\n",
       "      <td>True</td>\n",
       "    </tr>\n",
       "    <tr>\n",
       "      <th>34819</th>\n",
       "      <td>../../coco-counterfactuals/synthetic-images-fo...</td>\n",
       "      <td>There is a refrigerator, a toilet, and a sink ...</td>\n",
       "      <td>True</td>\n",
       "      <td>92124_1.jpg</td>\n",
       "      <td>True</td>\n",
       "    </tr>\n",
       "  </tbody>\n",
       "</table>\n",
       "<p>17410 rows × 5 columns</p>\n",
       "</div>"
      ],
      "text/plain": [
       "                                              image_path  \\\n",
       "1      ../../coco-counterfactuals/synthetic-images-fo...   \n",
       "3      ../../coco-counterfactuals/synthetic-images-fo...   \n",
       "5      ../../coco-counterfactuals/synthetic-images-fo...   \n",
       "7      ../../coco-counterfactuals/synthetic-images-fo...   \n",
       "9      ../../coco-counterfactuals/synthetic-images-fo...   \n",
       "...                                                  ...   \n",
       "34811  ../../coco-counterfactuals/synthetic-images-fo...   \n",
       "34813  ../../coco-counterfactuals/synthetic-images-fo...   \n",
       "34815  ../../coco-counterfactuals/synthetic-images-fo...   \n",
       "34817  ../../coco-counterfactuals/synthetic-images-fo...   \n",
       "34819  ../../coco-counterfactuals/synthetic-images-fo...   \n",
       "\n",
       "                                                 caption  is_counter  \\\n",
       "1      A baker is cutting into a cake with a large kn...        True   \n",
       "3      A man and woman brushing their teeth and takin...        True   \n",
       "5      Some people that are wandering around a lot of...        True   \n",
       "7      A baseball bat is in a box looking out over th...        True   \n",
       "9           A very cute pair of sheep in a grassy field.        True   \n",
       "...                                                  ...         ...   \n",
       "34811  Motorcyclists are riding down the highway with...        True   \n",
       "34813        A wooden bench in a dirt field with a tree.        True   \n",
       "34815  A black cat licks a doughnut in front of a yel...        True   \n",
       "34817  A tour bus is driving down the road next to bu...        True   \n",
       "34819  There is a refrigerator, a toilet, and a sink ...        True   \n",
       "\n",
       "         coco_index  in_train  \n",
       "1      158956_0.jpg      True  \n",
       "3      164602_4.jpg     False  \n",
       "5       60823_0.jpg      True  \n",
       "7      279714_2.jpg      True  \n",
       "9      375763_0.jpg      True  \n",
       "...             ...       ...  \n",
       "34811  534827_2.jpg     False  \n",
       "34813  162130_4.jpg      True  \n",
       "34815  572388_3.jpg      True  \n",
       "34817  344029_3.jpg      True  \n",
       "34819   92124_1.jpg      True  \n",
       "\n",
       "[17410 rows x 5 columns]"
      ]
     },
     "execution_count": 38,
     "metadata": {},
     "output_type": "execute_result"
    }
   ],
   "source": [
    "coco_cfs_counter"
   ]
  },
  {
   "cell_type": "code",
   "execution_count": 39,
   "id": "1bfd762f-1eb9-4eec-b6db-7f490caf16eb",
   "metadata": {},
   "outputs": [],
   "source": [
    "coco_cfs_counter_train = coco_cfs_counter[coco_cfs_counter['in_train'] == True]"
   ]
  },
  {
   "cell_type": "code",
   "execution_count": 40,
   "id": "cbe02a3e-86c9-4946-a466-4cb3430ed625",
   "metadata": {},
   "outputs": [],
   "source": [
    "coco_cfs_counter_test = coco_cfs_counter[coco_cfs_counter['in_train'] == False]"
   ]
  },
  {
   "cell_type": "code",
   "execution_count": 41,
   "id": "4b7756d5-ffd7-4425-a361-9e034a9eefc7",
   "metadata": {},
   "outputs": [
    {
     "data": {
      "text/plain": [
       "Index(['image_path', 'caption', 'is_counter', 'coco_index', 'in_train'], dtype='object')"
      ]
     },
     "execution_count": 41,
     "metadata": {},
     "output_type": "execute_result"
    }
   ],
   "source": [
    "coco_cfs_counter_train.columns"
   ]
  },
  {
   "cell_type": "code",
   "execution_count": 42,
   "id": "e34c2bb7-a990-4a94-af63-0778e3432978",
   "metadata": {},
   "outputs": [
    {
     "name": "stdout",
     "output_type": "stream",
     "text": [
      "<class 'pandas.core.frame.DataFrame'>\n",
      "Int64Index: 12187 entries, 1 to 34819\n",
      "Data columns (total 5 columns):\n",
      " #   Column      Non-Null Count  Dtype \n",
      "---  ------      --------------  ----- \n",
      " 0   image_path  12187 non-null  object\n",
      " 1   caption     12187 non-null  object\n",
      " 2   is_counter  12187 non-null  bool  \n",
      " 3   coco_index  12187 non-null  object\n",
      " 4   in_train    12187 non-null  bool  \n",
      "dtypes: bool(2), object(3)\n",
      "memory usage: 404.6+ KB\n"
     ]
    }
   ],
   "source": [
    "coco_cfs_counter_train.info()"
   ]
  },
  {
   "cell_type": "code",
   "execution_count": 43,
   "id": "706c544a-0ee7-4f88-9cdc-8c7c3c77110a",
   "metadata": {},
   "outputs": [
    {
     "name": "stdout",
     "output_type": "stream",
     "text": [
      "<class 'pandas.core.frame.DataFrame'>\n",
      "Int64Index: 5223 entries, 3 to 34811\n",
      "Data columns (total 5 columns):\n",
      " #   Column      Non-Null Count  Dtype \n",
      "---  ------      --------------  ----- \n",
      " 0   image_path  5223 non-null   object\n",
      " 1   caption     5223 non-null   object\n",
      " 2   is_counter  5223 non-null   bool  \n",
      " 3   coco_index  5223 non-null   object\n",
      " 4   in_train    5223 non-null   bool  \n",
      "dtypes: bool(2), object(3)\n",
      "memory usage: 173.4+ KB\n"
     ]
    }
   ],
   "source": [
    "coco_cfs_counter_test.info()"
   ]
  },
  {
   "cell_type": "code",
   "execution_count": 44,
   "id": "b575e05a-4a46-42bb-959a-dd244fa69ff8",
   "metadata": {},
   "outputs": [],
   "source": [
    "coco_cfs_counter_train = coco_cfs_counter_train.drop(columns=['is_counter', 'coco_index', 'in_train'])\n",
    "coco_cfs_counter_test = coco_cfs_counter_test.drop(columns=['is_counter', 'coco_index', 'in_train'])"
   ]
  },
  {
   "cell_type": "code",
   "execution_count": 45,
   "id": "7cf4d8b4-8949-4551-8877-c05cb4cf85da",
   "metadata": {},
   "outputs": [
    {
     "name": "stdout",
     "output_type": "stream",
     "text": [
      "<class 'pandas.core.frame.DataFrame'>\n",
      "Int64Index: 12187 entries, 1 to 34819\n",
      "Data columns (total 2 columns):\n",
      " #   Column      Non-Null Count  Dtype \n",
      "---  ------      --------------  ----- \n",
      " 0   image_path  12187 non-null  object\n",
      " 1   caption     12187 non-null  object\n",
      "dtypes: object(2)\n",
      "memory usage: 285.6+ KB\n"
     ]
    }
   ],
   "source": [
    "coco_cfs_counter_train.info()"
   ]
  },
  {
   "cell_type": "code",
   "execution_count": 46,
   "id": "c56c8049-d50c-4e25-9ba6-c56414453296",
   "metadata": {},
   "outputs": [
    {
     "name": "stdout",
     "output_type": "stream",
     "text": [
      "<class 'pandas.core.frame.DataFrame'>\n",
      "Int64Index: 5223 entries, 3 to 34811\n",
      "Data columns (total 2 columns):\n",
      " #   Column      Non-Null Count  Dtype \n",
      "---  ------      --------------  ----- \n",
      " 0   image_path  5223 non-null   object\n",
      " 1   caption     5223 non-null   object\n",
      "dtypes: object(2)\n",
      "memory usage: 122.4+ KB\n"
     ]
    }
   ],
   "source": [
    "coco_cfs_counter_test.info()"
   ]
  },
  {
   "cell_type": "code",
   "execution_count": 47,
   "id": "0a2269c1-002d-4eb6-b338-5fc944d4677f",
   "metadata": {},
   "outputs": [],
   "source": [
    "train_coco_cfs_original_caption = pd.read_csv('./split-coco-cfs/train-coco-cfs-origin-caption.csv')\n",
    "test_coco_cfs_original_caption = pd.read_csv('./split-coco-cfs/test-coco-cfs-origin-caption.csv')"
   ]
  },
  {
   "cell_type": "code",
   "execution_count": 51,
   "id": "16b207b4-4480-492a-ae93-2d82a5f73f23",
   "metadata": {},
   "outputs": [
    {
     "name": "stdout",
     "output_type": "stream",
     "text": [
      "<class 'pandas.core.frame.DataFrame'>\n",
      "RangeIndex: 12187 entries, 0 to 12186\n",
      "Data columns (total 3 columns):\n",
      " #   Column      Non-Null Count  Dtype \n",
      "---  ------      --------------  ----- \n",
      " 0   image_path  12187 non-null  object\n",
      " 1   caption     12187 non-null  object\n",
      " 2   is_counter  12187 non-null  bool  \n",
      "dtypes: bool(1), object(2)\n",
      "memory usage: 202.4+ KB\n"
     ]
    }
   ],
   "source": [
    "train_coco_cfs_original_caption.info()"
   ]
  },
  {
   "cell_type": "code",
   "execution_count": 49,
   "id": "8bd7faa7-34ea-48f7-8ff7-1bb36d181473",
   "metadata": {},
   "outputs": [],
   "source": [
    "train_coco_cfs = pd.concat([train_coco_cfs_original_caption, coco_cfs_counter_train], axis=0)"
   ]
  },
  {
   "cell_type": "code",
   "execution_count": 50,
   "id": "e221444d-e60d-4a04-be4d-5fd67a3b043f",
   "metadata": {},
   "outputs": [
    {
     "name": "stdout",
     "output_type": "stream",
     "text": [
      "<class 'pandas.core.frame.DataFrame'>\n",
      "Int64Index: 24374 entries, 0 to 34819\n",
      "Data columns (total 3 columns):\n",
      " #   Column      Non-Null Count  Dtype \n",
      "---  ------      --------------  ----- \n",
      " 0   image_path  24374 non-null  object\n",
      " 1   caption     24374 non-null  object\n",
      " 2   is_counter  12187 non-null  object\n",
      "dtypes: object(3)\n",
      "memory usage: 761.7+ KB\n"
     ]
    }
   ],
   "source": [
    "train_coco_cfs.info()"
   ]
  },
  {
   "cell_type": "code",
   "execution_count": 52,
   "id": "bc71c7c5-d450-417d-a09a-af91614d09fc",
   "metadata": {},
   "outputs": [],
   "source": [
    "test_coco_cfs = pd.concat([test_coco_cfs_original_caption, coco_cfs_counter_test], axis=0)"
   ]
  },
  {
   "cell_type": "code",
   "execution_count": 53,
   "id": "53c33ede-99bd-41b7-aff6-942a7d2141f6",
   "metadata": {},
   "outputs": [
    {
     "name": "stdout",
     "output_type": "stream",
     "text": [
      "<class 'pandas.core.frame.DataFrame'>\n",
      "Int64Index: 10446 entries, 0 to 34811\n",
      "Data columns (total 3 columns):\n",
      " #   Column      Non-Null Count  Dtype \n",
      "---  ------      --------------  ----- \n",
      " 0   image_path  10446 non-null  object\n",
      " 1   caption     10446 non-null  object\n",
      " 2   is_counter  5223 non-null   object\n",
      "dtypes: object(3)\n",
      "memory usage: 326.4+ KB\n"
     ]
    }
   ],
   "source": [
    "test_coco_cfs.info()"
   ]
  },
  {
   "cell_type": "code",
   "execution_count": 61,
   "id": "7982e566-625d-46a1-b474-fe97a8e9dfe7",
   "metadata": {},
   "outputs": [],
   "source": [
    "coco_index = [path.split('/')[-1] for path in train_coco_cfs['image_path']]"
   ]
  },
  {
   "cell_type": "code",
   "execution_count": 62,
   "id": "f35f6827-5d40-431e-a862-3c2c734489b7",
   "metadata": {},
   "outputs": [],
   "source": [
    "assert len(coco_index) / 2 == len(set(coco_index))"
   ]
  },
  {
   "cell_type": "code",
   "execution_count": 63,
   "id": "e67ec066-5cd0-4f17-928f-7d3d5f3993a3",
   "metadata": {},
   "outputs": [],
   "source": [
    "coco_index = [path.split('/')[-1] for path in test_coco_cfs['image_path']]"
   ]
  },
  {
   "cell_type": "code",
   "execution_count": 64,
   "id": "d4480cac-cd37-4759-8f10-97a94059b177",
   "metadata": {},
   "outputs": [],
   "source": [
    "assert len(coco_index) / 2 == len(set(coco_index))"
   ]
  },
  {
   "cell_type": "code",
   "execution_count": 68,
   "id": "d2115a59-0a33-4c26-9e78-e29315950244",
   "metadata": {},
   "outputs": [],
   "source": [
    "train_coco_cfs = train_coco_cfs.drop(columns='is_counter')\n",
    "test_coco_cfs = test_coco_cfs.drop(columns='is_counter')"
   ]
  },
  {
   "cell_type": "code",
   "execution_count": 69,
   "id": "011c85c1-f0e3-452c-8403-e9653dbfa78a",
   "metadata": {},
   "outputs": [],
   "source": [
    "train_coco_cfs.to_csv('./split-coco-cfs/train-coco-cfs.csv', header=True, index=False)"
   ]
  },
  {
   "cell_type": "code",
   "execution_count": 70,
   "id": "09a52a2e-6bf6-471b-85d9-85c460f549d7",
   "metadata": {},
   "outputs": [],
   "source": [
    "test_coco_cfs.to_csv('./split-coco-cfs/test-coco-cfs.csv', header=True, index=False)"
   ]
  },
  {
   "cell_type": "code",
   "execution_count": 71,
   "id": "981bb665-092e-4047-9305-09d0231eeb5f",
   "metadata": {},
   "outputs": [
    {
     "name": "stderr",
     "output_type": "stream",
     "text": [
      "Using custom data configuration default-7f514f0fd15fe2d6\n"
     ]
    },
    {
     "name": "stdout",
     "output_type": "stream",
     "text": [
      "Downloading and preparing dataset csv/default to /home/tieple/.cache/huggingface/datasets/csv/default-7f514f0fd15fe2d6/0.0.0/6b34fb8fcf56f7c8ba51dc895bfa2bfbe43546f190a60fcf74bb5e8afdcc2317...\n"
     ]
    },
    {
     "data": {
      "application/vnd.jupyter.widget-view+json": {
       "model_id": "e504a1bae25c4df19ad009d742d7641a",
       "version_major": 2,
       "version_minor": 0
      },
      "text/plain": [
       "Downloading data files:   0%|          | 0/1 [00:00<?, ?it/s]"
      ]
     },
     "metadata": {},
     "output_type": "display_data"
    },
    {
     "data": {
      "application/vnd.jupyter.widget-view+json": {
       "model_id": "4f15b07ca50e4b2a9d0809acdd2b47f4",
       "version_major": 2,
       "version_minor": 0
      },
      "text/plain": [
       "Extracting data files:   0%|          | 0/1 [00:00<?, ?it/s]"
      ]
     },
     "metadata": {},
     "output_type": "display_data"
    },
    {
     "data": {
      "application/vnd.jupyter.widget-view+json": {
       "model_id": "",
       "version_major": 2,
       "version_minor": 0
      },
      "text/plain": [
       "Generating train split: 0 examples [00:00, ? examples/s]"
      ]
     },
     "metadata": {},
     "output_type": "display_data"
    },
    {
     "name": "stderr",
     "output_type": "stream",
     "text": [
      "/home/tieple/anaconda/envs/counterfactual/lib/python3.8/site-packages/datasets/download/streaming_download_manager.py:714: FutureWarning: the 'mangle_dupe_cols' keyword is deprecated and will be removed in a future version. Please take steps to stop the use of 'mangle_dupe_cols'\n",
      "  return pd.read_csv(xopen(filepath_or_buffer, \"rb\", use_auth_token=use_auth_token), **kwargs)\n"
     ]
    },
    {
     "name": "stdout",
     "output_type": "stream",
     "text": [
      "Dataset csv downloaded and prepared to /home/tieple/.cache/huggingface/datasets/csv/default-7f514f0fd15fe2d6/0.0.0/6b34fb8fcf56f7c8ba51dc895bfa2bfbe43546f190a60fcf74bb5e8afdcc2317. Subsequent calls will reuse this data.\n"
     ]
    },
    {
     "data": {
      "application/vnd.jupyter.widget-view+json": {
       "model_id": "cec9f449ab9d495fb8a523c574532c4b",
       "version_major": 2,
       "version_minor": 0
      },
      "text/plain": [
       "  0%|          | 0/1 [00:00<?, ?it/s]"
      ]
     },
     "metadata": {},
     "output_type": "display_data"
    }
   ],
   "source": [
    "ds = load_dataset('csv', data_files='./split-coco-cfs/train-coco-cfs.csv')"
   ]
  },
  {
   "cell_type": "code",
   "execution_count": 72,
   "id": "45f9e3ee-3eb2-4749-9d36-2d999f055b98",
   "metadata": {},
   "outputs": [
    {
     "data": {
      "text/plain": [
       "DatasetDict({\n",
       "    train: Dataset({\n",
       "        features: ['image_path', 'caption'],\n",
       "        num_rows: 24374\n",
       "    })\n",
       "})"
      ]
     },
     "execution_count": 72,
     "metadata": {},
     "output_type": "execute_result"
    }
   ],
   "source": [
    "ds"
   ]
  },
  {
   "cell_type": "code",
   "execution_count": 73,
   "id": "eee7532e-3934-44b4-821b-f227120e5bcc",
   "metadata": {},
   "outputs": [],
   "source": [
    "ds = ds['train'].train_test_split(test_size=0.2)"
   ]
  },
  {
   "cell_type": "code",
   "execution_count": 74,
   "id": "ab799a2e-c23a-451e-9ffc-56c549943acb",
   "metadata": {},
   "outputs": [
    {
     "data": {
      "text/plain": [
       "DatasetDict({\n",
       "    train: Dataset({\n",
       "        features: ['image_path', 'caption'],\n",
       "        num_rows: 19499\n",
       "    })\n",
       "    test: Dataset({\n",
       "        features: ['image_path', 'caption'],\n",
       "        num_rows: 4875\n",
       "    })\n",
       "})"
      ]
     },
     "execution_count": 74,
     "metadata": {},
     "output_type": "execute_result"
    }
   ],
   "source": [
    "ds"
   ]
  },
  {
   "cell_type": "code",
   "execution_count": 75,
   "id": "e0ac0205-cafc-45a7-b007-c97ccb7ce5b4",
   "metadata": {},
   "outputs": [
    {
     "data": {
      "application/vnd.jupyter.widget-view+json": {
       "model_id": "cfcacf81fd704015bb972730b9b64cf0",
       "version_major": 2,
       "version_minor": 0
      },
      "text/plain": [
       "Creating CSV from Arrow format:   0%|          | 0/20 [00:00<?, ?ba/s]"
      ]
     },
     "metadata": {},
     "output_type": "display_data"
    },
    {
     "data": {
      "application/vnd.jupyter.widget-view+json": {
       "model_id": "e4f435c08dfc4d6c936bb66ddca9fd08",
       "version_major": 2,
       "version_minor": 0
      },
      "text/plain": [
       "Creating CSV from Arrow format:   0%|          | 0/5 [00:00<?, ?ba/s]"
      ]
     },
     "metadata": {},
     "output_type": "display_data"
    },
    {
     "data": {
      "text/plain": [
       "659875"
      ]
     },
     "execution_count": 75,
     "metadata": {},
     "output_type": "execute_result"
    }
   ],
   "source": [
    "ds['train'].to_csv('./split-coco-cfs/train-coco-cfs.csv', header=True, index=False)\n",
    "ds['test'].to_csv('./split-coco-cfs/dev-coco-cfs.csv', header=True, index=False)"
   ]
  },
  {
   "cell_type": "markdown",
   "id": "f674b78f-0937-4f17-8cf1-c89be8551490",
   "metadata": {},
   "source": [
    "## Prepare full MS-COCO original dataset"
   ]
  },
  {
   "cell_type": "code",
   "execution_count": 23,
   "id": "7c91bc84-ab55-4294-805f-3c4029bed0f1",
   "metadata": {},
   "outputs": [],
   "source": [
    "coco_images_path = '/export/share/datasets/COCO2017/val2017'\n",
    "\n",
    "def assign_exist_image_file_extension(filename, path):\n",
    "    if os.path.isfile(osp.join(path, filename + '.jpg')):\n",
    "        filename_with_extension = filename + '.jpg'\n",
    "    elif os.path.isfile(osp.join(path, filename + '.png')):\n",
    "        filename_with_extension = filename + '.png'\n",
    "    else:\n",
    "        filename_with_extension = filename + '.jpg'\n",
    "    return filename_with_extension\n",
    "\n",
    "def get_path_to_coco_image(image_index):\n",
    "    if '_' in image_index:\n",
    "        image_index = image_index.split('_')[0]\n",
    "    image_index = str(image_index)\n",
    "    filename = '0'*(12-len(image_index)) + image_index \n",
    "    filename = assign_exist_image_file_extension(filename, coco_images_path)\n",
    "    path_to_image_file = osp.join(coco_images_path, filename)\n",
    "    return path_to_image_file"
   ]
  },
  {
   "cell_type": "code",
   "execution_count": 24,
   "id": "bfc5ca85-40ed-4dbc-999b-16f16b836327",
   "metadata": {},
   "outputs": [],
   "source": [
    "indices = []\n",
    "origin_prompts = []\n",
    "with open('../../CounterfactualCaptionGeneration/input/cap_val_2017.txt', 'r') as infile:\n",
    "    for line in infile:\n",
    "        if '\\n' == line[-1]:\n",
    "            line = line[0:-1]\n",
    "        index, origin = line.split(\"\\t\")\n",
    "        indices.append(index)\n",
    "        origin_prompts.append(origin)"
   ]
  },
  {
   "cell_type": "code",
   "execution_count": 25,
   "id": "b305a5d2-3cb8-4b8d-a346-3a9b679dc426",
   "metadata": {},
   "outputs": [],
   "source": [
    "paths = [get_path_to_coco_image(indice) for indice in indices]"
   ]
  },
  {
   "cell_type": "code",
   "execution_count": 26,
   "id": "a43af63e-715e-4beb-b398-fffcfcd62c80",
   "metadata": {},
   "outputs": [],
   "source": [
    "df = pd.DataFrame({'image_path' : paths, 'caption' : origin_prompts})"
   ]
  },
  {
   "cell_type": "code",
   "execution_count": 27,
   "id": "8e5ce6eb-b58b-41e5-9076-9edfc46acdce",
   "metadata": {},
   "outputs": [
    {
     "data": {
      "text/html": [
       "<div>\n",
       "<style scoped>\n",
       "    .dataframe tbody tr th:only-of-type {\n",
       "        vertical-align: middle;\n",
       "    }\n",
       "\n",
       "    .dataframe tbody tr th {\n",
       "        vertical-align: top;\n",
       "    }\n",
       "\n",
       "    .dataframe thead th {\n",
       "        text-align: right;\n",
       "    }\n",
       "</style>\n",
       "<table border=\"1\" class=\"dataframe\">\n",
       "  <thead>\n",
       "    <tr style=\"text-align: right;\">\n",
       "      <th></th>\n",
       "      <th>image_path</th>\n",
       "      <th>caption</th>\n",
       "    </tr>\n",
       "  </thead>\n",
       "  <tbody>\n",
       "    <tr>\n",
       "      <th>0</th>\n",
       "      <td>/export/share/datasets/COCO2017/val2017/000000...</td>\n",
       "      <td>A black Honda motorcycle parked in front of a ...</td>\n",
       "    </tr>\n",
       "    <tr>\n",
       "      <th>1</th>\n",
       "      <td>/export/share/datasets/COCO2017/val2017/000000...</td>\n",
       "      <td>A Honda motorcycle parked in a grass driveway</td>\n",
       "    </tr>\n",
       "    <tr>\n",
       "      <th>2</th>\n",
       "      <td>/export/share/datasets/COCO2017/val2017/000000...</td>\n",
       "      <td>A black Honda motorcycle with a dark burgundy ...</td>\n",
       "    </tr>\n",
       "    <tr>\n",
       "      <th>3</th>\n",
       "      <td>/export/share/datasets/COCO2017/val2017/000000...</td>\n",
       "      <td>Ma motorcycle parked on the gravel in front of...</td>\n",
       "    </tr>\n",
       "    <tr>\n",
       "      <th>4</th>\n",
       "      <td>/export/share/datasets/COCO2017/val2017/000000...</td>\n",
       "      <td>A motorcycle with its brake extended standing ...</td>\n",
       "    </tr>\n",
       "    <tr>\n",
       "      <th>...</th>\n",
       "      <td>...</td>\n",
       "      <td>...</td>\n",
       "    </tr>\n",
       "    <tr>\n",
       "      <th>25009</th>\n",
       "      <td>/export/share/datasets/COCO2017/val2017/000000...</td>\n",
       "      <td>Three teddy bears sit on a fake sled in fake s...</td>\n",
       "    </tr>\n",
       "    <tr>\n",
       "      <th>25010</th>\n",
       "      <td>/export/share/datasets/COCO2017/val2017/000000...</td>\n",
       "      <td>a picture of stuffed animals on a sled in a fa...</td>\n",
       "    </tr>\n",
       "    <tr>\n",
       "      <th>25011</th>\n",
       "      <td>/export/share/datasets/COCO2017/val2017/000000...</td>\n",
       "      <td>Three teddy bears sit in a sled in fake snow.</td>\n",
       "    </tr>\n",
       "    <tr>\n",
       "      <th>25012</th>\n",
       "      <td>/export/share/datasets/COCO2017/val2017/000000...</td>\n",
       "      <td>Three stuffed bears wearing clothes riding on ...</td>\n",
       "    </tr>\n",
       "    <tr>\n",
       "      <th>25013</th>\n",
       "      <td>/export/share/datasets/COCO2017/val2017/000000...</td>\n",
       "      <td>A set of plush toy teddy bears sitting in a sled.</td>\n",
       "    </tr>\n",
       "  </tbody>\n",
       "</table>\n",
       "<p>25014 rows × 2 columns</p>\n",
       "</div>"
      ],
      "text/plain": [
       "                                              image_path  \\\n",
       "0      /export/share/datasets/COCO2017/val2017/000000...   \n",
       "1      /export/share/datasets/COCO2017/val2017/000000...   \n",
       "2      /export/share/datasets/COCO2017/val2017/000000...   \n",
       "3      /export/share/datasets/COCO2017/val2017/000000...   \n",
       "4      /export/share/datasets/COCO2017/val2017/000000...   \n",
       "...                                                  ...   \n",
       "25009  /export/share/datasets/COCO2017/val2017/000000...   \n",
       "25010  /export/share/datasets/COCO2017/val2017/000000...   \n",
       "25011  /export/share/datasets/COCO2017/val2017/000000...   \n",
       "25012  /export/share/datasets/COCO2017/val2017/000000...   \n",
       "25013  /export/share/datasets/COCO2017/val2017/000000...   \n",
       "\n",
       "                                                 caption  \n",
       "0      A black Honda motorcycle parked in front of a ...  \n",
       "1          A Honda motorcycle parked in a grass driveway  \n",
       "2      A black Honda motorcycle with a dark burgundy ...  \n",
       "3      Ma motorcycle parked on the gravel in front of...  \n",
       "4      A motorcycle with its brake extended standing ...  \n",
       "...                                                  ...  \n",
       "25009  Three teddy bears sit on a fake sled in fake s...  \n",
       "25010  a picture of stuffed animals on a sled in a fa...  \n",
       "25011      Three teddy bears sit in a sled in fake snow.  \n",
       "25012  Three stuffed bears wearing clothes riding on ...  \n",
       "25013  A set of plush toy teddy bears sitting in a sled.  \n",
       "\n",
       "[25014 rows x 2 columns]"
      ]
     },
     "execution_count": 27,
     "metadata": {},
     "output_type": "execute_result"
    }
   ],
   "source": [
    "df"
   ]
  },
  {
   "cell_type": "code",
   "execution_count": 28,
   "id": "98597b49-1978-4397-8fac-3384004b8467",
   "metadata": {},
   "outputs": [],
   "source": [
    "df.to_csv('all-ms-coco.csv', header=True, index=False)"
   ]
  },
  {
   "cell_type": "code",
   "execution_count": 29,
   "id": "a41927df-ca3c-45eb-9021-72f8c0600b20",
   "metadata": {},
   "outputs": [
    {
     "name": "stderr",
     "output_type": "stream",
     "text": [
      "Using custom data configuration default-34ffa41347a1ed02\n"
     ]
    },
    {
     "name": "stdout",
     "output_type": "stream",
     "text": [
      "Downloading and preparing dataset csv/default to /home/tieple/.cache/huggingface/datasets/csv/default-34ffa41347a1ed02/0.0.0/6b34fb8fcf56f7c8ba51dc895bfa2bfbe43546f190a60fcf74bb5e8afdcc2317...\n"
     ]
    },
    {
     "data": {
      "application/vnd.jupyter.widget-view+json": {
       "model_id": "d66ea2b29f9e460cb0daac26e2eda630",
       "version_major": 2,
       "version_minor": 0
      },
      "text/plain": [
       "Downloading data files:   0%|          | 0/1 [00:00<?, ?it/s]"
      ]
     },
     "metadata": {},
     "output_type": "display_data"
    },
    {
     "data": {
      "application/vnd.jupyter.widget-view+json": {
       "model_id": "b2f6a65252834577b655623c32bd3eb4",
       "version_major": 2,
       "version_minor": 0
      },
      "text/plain": [
       "Extracting data files:   0%|          | 0/1 [00:00<?, ?it/s]"
      ]
     },
     "metadata": {},
     "output_type": "display_data"
    },
    {
     "data": {
      "application/vnd.jupyter.widget-view+json": {
       "model_id": "",
       "version_major": 2,
       "version_minor": 0
      },
      "text/plain": [
       "Generating train split: 0 examples [00:00, ? examples/s]"
      ]
     },
     "metadata": {},
     "output_type": "display_data"
    },
    {
     "name": "stderr",
     "output_type": "stream",
     "text": [
      "/home/tieple/anaconda/envs/counterfactual/lib/python3.8/site-packages/datasets/download/streaming_download_manager.py:714: FutureWarning: the 'mangle_dupe_cols' keyword is deprecated and will be removed in a future version. Please take steps to stop the use of 'mangle_dupe_cols'\n",
      "  return pd.read_csv(xopen(filepath_or_buffer, \"rb\", use_auth_token=use_auth_token), **kwargs)\n"
     ]
    },
    {
     "name": "stdout",
     "output_type": "stream",
     "text": [
      "Dataset csv downloaded and prepared to /home/tieple/.cache/huggingface/datasets/csv/default-34ffa41347a1ed02/0.0.0/6b34fb8fcf56f7c8ba51dc895bfa2bfbe43546f190a60fcf74bb5e8afdcc2317. Subsequent calls will reuse this data.\n"
     ]
    },
    {
     "data": {
      "application/vnd.jupyter.widget-view+json": {
       "model_id": "54bd22af60924232b8c74e3acc7dd324",
       "version_major": 2,
       "version_minor": 0
      },
      "text/plain": [
       "  0%|          | 0/1 [00:00<?, ?it/s]"
      ]
     },
     "metadata": {},
     "output_type": "display_data"
    }
   ],
   "source": [
    "ds = load_dataset('csv', data_files='all-ms-coco.csv')"
   ]
  },
  {
   "cell_type": "code",
   "execution_count": 30,
   "id": "5fbef33e-32a5-4ec6-b04d-01acdc227e70",
   "metadata": {},
   "outputs": [
    {
     "data": {
      "text/plain": [
       "DatasetDict({\n",
       "    train: Dataset({\n",
       "        features: ['image_path', 'caption'],\n",
       "        num_rows: 25014\n",
       "    })\n",
       "})"
      ]
     },
     "execution_count": 30,
     "metadata": {},
     "output_type": "execute_result"
    }
   ],
   "source": [
    "ds"
   ]
  },
  {
   "cell_type": "code",
   "execution_count": 31,
   "id": "50d68b9e-ef0b-4425-98d6-c587a6361c1e",
   "metadata": {},
   "outputs": [],
   "source": [
    "ds = ds['train'].train_test_split(test_size=0.22)"
   ]
  },
  {
   "cell_type": "code",
   "execution_count": 32,
   "id": "a5fbe494-fb90-4650-a4a5-bacd317a0b17",
   "metadata": {},
   "outputs": [
    {
     "data": {
      "text/plain": [
       "DatasetDict({\n",
       "    train: Dataset({\n",
       "        features: ['image_path', 'caption'],\n",
       "        num_rows: 19510\n",
       "    })\n",
       "    test: Dataset({\n",
       "        features: ['image_path', 'caption'],\n",
       "        num_rows: 5504\n",
       "    })\n",
       "})"
      ]
     },
     "execution_count": 32,
     "metadata": {},
     "output_type": "execute_result"
    }
   ],
   "source": [
    "ds"
   ]
  },
  {
   "cell_type": "code",
   "execution_count": 33,
   "id": "b1958b9e-413d-46fd-81fb-f63f88c8ed1c",
   "metadata": {},
   "outputs": [
    {
     "data": {
      "application/vnd.jupyter.widget-view+json": {
       "model_id": "a1d467067c0342319d02757eedf45fc0",
       "version_major": 2,
       "version_minor": 0
      },
      "text/plain": [
       "Creating CSV from Arrow format:   0%|          | 0/20 [00:00<?, ?ba/s]"
      ]
     },
     "metadata": {},
     "output_type": "display_data"
    },
    {
     "data": {
      "text/plain": [
       "2155780"
      ]
     },
     "execution_count": 33,
     "metadata": {},
     "output_type": "execute_result"
    }
   ],
   "source": [
    "ds['train'].to_csv('./split-coco-cfs/train-all-original-ms-coco.csv', header=True, index=False)"
   ]
  },
  {
   "cell_type": "code",
   "execution_count": 34,
   "id": "aecb8266-7b48-433f-921c-22ac864d9879",
   "metadata": {},
   "outputs": [
    {
     "data": {
      "application/vnd.jupyter.widget-view+json": {
       "model_id": "cf82df8b17294f7bafae21cd10086946",
       "version_major": 2,
       "version_minor": 0
      },
      "text/plain": [
       "Creating CSV from Arrow format:   0%|          | 0/6 [00:00<?, ?ba/s]"
      ]
     },
     "metadata": {},
     "output_type": "display_data"
    },
    {
     "data": {
      "text/plain": [
       "609117"
      ]
     },
     "execution_count": 34,
     "metadata": {},
     "output_type": "execute_result"
    }
   ],
   "source": [
    "ds['test'].to_csv('./split-coco-cfs/dev-all-original-ms-coco.csv', header=True, index=False)"
   ]
  },
  {
   "cell_type": "code",
   "execution_count": null,
   "id": "34d33150-f2a0-4198-82c1-87677daed0ee",
   "metadata": {},
   "outputs": [],
   "source": []
  }
 ],
 "metadata": {
  "kernelspec": {
   "display_name": "counterfactual",
   "language": "python",
   "name": "counterfactual"
  },
  "language_info": {
   "codemirror_mode": {
    "name": "ipython",
    "version": 3
   },
   "file_extension": ".py",
   "mimetype": "text/x-python",
   "name": "python",
   "nbconvert_exporter": "python",
   "pygments_lexer": "ipython3",
   "version": "3.8.15"
  }
 },
 "nbformat": 4,
 "nbformat_minor": 5
}
