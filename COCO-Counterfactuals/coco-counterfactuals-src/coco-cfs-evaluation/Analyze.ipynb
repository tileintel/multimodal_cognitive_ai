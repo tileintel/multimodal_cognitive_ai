{
 "cells": [
  {
   "cell_type": "code",
   "execution_count": 1,
   "id": "37407ae1-bf95-468c-8b6b-52478d0d2cf6",
   "metadata": {},
   "outputs": [],
   "source": [
    "import pandas as pd"
   ]
  },
  {
   "cell_type": "code",
   "execution_count": 6,
   "id": "51cfaea2-8c20-4f25-87af-ba833defdc94",
   "metadata": {},
   "outputs": [],
   "source": [
    "paths = ['./test-coco-cfs/base-model/evaluate_clip-baseline.csv',\n",
    "         './test-coco-cfs/CLIP-finetune-on-all-original-ms-coco-1/evaluate_finetuned_clip.csv',\n",
    "         './test-coco-cfs/CLIP-finetune-on-coco-cfs-1/evaluate_finetuned_clip.csv']"
   ]
  },
  {
   "cell_type": "code",
   "execution_count": 3,
   "id": "ddde31ae-9262-45ed-9606-b891e067025c",
   "metadata": {},
   "outputs": [],
   "source": [
    "paths = ['./splitted_test_coco+coco-cfs_all/base-model/evaluate_clip-baseline.csv',\n",
    "         './splitted_test_coco+coco-cfs_all/CLIP-finetune-on-mscoco-1/evaluate_finetuned_clip.csv',\n",
    "        './splitted_test_coco+coco-cfs_all/CLIP-finetune-on-coco-and-coco_cfs-all-1/evaluate_finetuned_clip.csv',]"
   ]
  },
  {
   "cell_type": "code",
   "execution_count": 9,
   "id": "cd8d5253-638a-4884-ac37-6e2eef6f5043",
   "metadata": {},
   "outputs": [],
   "source": [
    "paths = ['./splitted_test_coco+coco-cfs_base/base-model/evaluate_clip-baseline.csv',\n",
    "         './splitted_test_coco+coco-cfs_base/CLIP-finetune-on-mscoco-1/evaluate_finetuned_clip.csv',\n",
    "        './splitted_test_coco+coco-cfs_base/CLIP-finetune-on-coco-and-coco_cfs-base-1/evaluate_finetuned_clip.csv',]"
   ]
  },
  {
   "cell_type": "code",
   "execution_count": 12,
   "id": "05ce2ff6-4c3b-425e-a3cc-fc10ca5a6323",
   "metadata": {},
   "outputs": [],
   "source": [
    "paths = ['./splitted_test_coco+coco-cfs_medium/base-model/evaluate_clip-baseline.csv',\n",
    "         './splitted_test_coco+coco-cfs_medium/CLIP-finetune-on-mscoco-1/evaluate_finetuned_clip.csv',\n",
    "        './splitted_test_coco+coco-cfs_medium/CLIP-finetune-on-coco-and-coco_cfs-medium-1/evaluate_finetuned_clip.csv',]"
   ]
  },
  {
   "cell_type": "code",
   "execution_count": 15,
   "id": "1b505ea4-5bd5-427e-a1f3-d079946b467e",
   "metadata": {},
   "outputs": [],
   "source": [
    "paths = ['./test-coco-cfs/base-model/evaluate_BT-baseline.csv',\n",
    "         './test-coco-cfs/BT-finetune-on-all-original-ms-coco-1/evaluate_finetuned_BT.csv',\n",
    "         './test-coco-cfs/BT-finetune-on-coco-cfs-1/evaluate_finetuned_BT.csv']"
   ]
  },
  {
   "cell_type": "code",
   "execution_count": 19,
   "id": "a4060333-aba4-4261-bc69-b790d060531c",
   "metadata": {},
   "outputs": [],
   "source": [
    "paths = ['./test-coco-cfs/base-model/evaluate_flava-baseline.csv',\n",
    "         './test-coco-cfs/Flava-finetune-on-all-original-ms-coco-1/evaluate_finetuned_flava.csv',\n",
    "         './test-coco-cfs/Flava-finetune-on-coco-cfs-1/evaluate_finetuned_flava.csv']"
   ]
  },
  {
   "cell_type": "code",
   "execution_count": 20,
   "id": "4a9a0494-015d-4aad-9504-e12732537f2b",
   "metadata": {},
   "outputs": [],
   "source": [
    "dfs = []\n",
    "for path in paths:\n",
    "    dfs.append(pd.read_csv(path)) \n",
    "df = pd.concat(dfs, axis=0)"
   ]
  },
  {
   "cell_type": "code",
   "execution_count": 21,
   "id": "3b8dcbe4-7912-4985-9093-daa45b87b802",
   "metadata": {},
   "outputs": [
    {
     "data": {
      "text/html": [
       "<div>\n",
       "<style scoped>\n",
       "    .dataframe tbody tr th:only-of-type {\n",
       "        vertical-align: middle;\n",
       "    }\n",
       "\n",
       "    .dataframe tbody tr th {\n",
       "        vertical-align: top;\n",
       "    }\n",
       "\n",
       "    .dataframe thead th {\n",
       "        text-align: right;\n",
       "    }\n",
       "</style>\n",
       "<table border=\"1\" class=\"dataframe\">\n",
       "  <thead>\n",
       "    <tr style=\"text-align: right;\">\n",
       "      <th></th>\n",
       "      <th>model</th>\n",
       "      <th>T2I.recall@1</th>\n",
       "      <th>T2I.recall@5</th>\n",
       "      <th>T2I.recall@10</th>\n",
       "      <th>I2Trecall@1</th>\n",
       "      <th>I2Trecall@5</th>\n",
       "      <th>I2Trecall@10</th>\n",
       "    </tr>\n",
       "  </thead>\n",
       "  <tbody>\n",
       "    <tr>\n",
       "      <th>0</th>\n",
       "      <td>flava-baseline</td>\n",
       "      <td>51.552437</td>\n",
       "      <td>80.640200</td>\n",
       "      <td>88.243776</td>\n",
       "      <td>34.395941</td>\n",
       "      <td>66.628374</td>\n",
       "      <td>78.020295</td>\n",
       "    </tr>\n",
       "    <tr>\n",
       "      <th>0</th>\n",
       "      <td>/export/share/projects/mcai/COCO-Counterfactua...</td>\n",
       "      <td>52.552148</td>\n",
       "      <td>81.082380</td>\n",
       "      <td>88.426415</td>\n",
       "      <td>46.697300</td>\n",
       "      <td>76.364159</td>\n",
       "      <td>85.678729</td>\n",
       "    </tr>\n",
       "    <tr>\n",
       "      <th>0</th>\n",
       "      <td>/export/share/projects/mcai/COCO-Counterfactua...</td>\n",
       "      <td>57.973661</td>\n",
       "      <td>85.110064</td>\n",
       "      <td>91.377487</td>\n",
       "      <td>54.384453</td>\n",
       "      <td>83.352479</td>\n",
       "      <td>90.273789</td>\n",
       "    </tr>\n",
       "  </tbody>\n",
       "</table>\n",
       "</div>"
      ],
      "text/plain": [
       "                                               model  T2I.recall@1  \\\n",
       "0                                     flava-baseline     51.552437   \n",
       "0  /export/share/projects/mcai/COCO-Counterfactua...     52.552148   \n",
       "0  /export/share/projects/mcai/COCO-Counterfactua...     57.973661   \n",
       "\n",
       "   T2I.recall@5  T2I.recall@10  I2Trecall@1  I2Trecall@5  I2Trecall@10  \n",
       "0     80.640200      88.243776    34.395941    66.628374     78.020295  \n",
       "0     81.082380      88.426415    46.697300    76.364159     85.678729  \n",
       "0     85.110064      91.377487    54.384453    83.352479     90.273789  "
      ]
     },
     "execution_count": 21,
     "metadata": {},
     "output_type": "execute_result"
    }
   ],
   "source": [
    "df"
   ]
  },
  {
   "cell_type": "code",
   "execution_count": 22,
   "id": "a9356990-f99e-4a34-86d7-01326748ed2a",
   "metadata": {},
   "outputs": [],
   "source": [
    "df.to_csv('evaluate_coco_cfs_flava.csv', index=False, header=True)"
   ]
  },
  {
   "cell_type": "code",
   "execution_count": null,
   "id": "abc3e087-3c70-4114-b39b-3d836c467a9a",
   "metadata": {},
   "outputs": [],
   "source": []
  }
 ],
 "metadata": {
  "kernelspec": {
   "display_name": "counterfactual",
   "language": "python",
   "name": "counterfactual"
  },
  "language_info": {
   "codemirror_mode": {
    "name": "ipython",
    "version": 3
   },
   "file_extension": ".py",
   "mimetype": "text/x-python",
   "name": "python",
   "nbconvert_exporter": "python",
   "pygments_lexer": "ipython3",
   "version": "3.8.15"
  }
 },
 "nbformat": 4,
 "nbformat_minor": 5
}
