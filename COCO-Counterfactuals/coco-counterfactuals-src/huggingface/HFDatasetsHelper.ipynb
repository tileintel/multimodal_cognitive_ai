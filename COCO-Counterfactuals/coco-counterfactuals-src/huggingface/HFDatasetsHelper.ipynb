{
 "cells": [
  {
   "cell_type": "markdown",
   "id": "027abc5f-70a3-41c4-9777-e0391f9c8323",
   "metadata": {},
   "source": [
    "### Refactor metadata.jsonl"
   ]
  },
  {
   "cell_type": "code",
   "execution_count": 1,
   "id": "943e5d29-3b2c-48b8-83e8-acfcd1cd0f27",
   "metadata": {},
   "outputs": [],
   "source": [
    "import json"
   ]
  },
  {
   "cell_type": "code",
   "execution_count": 9,
   "id": "ad3672e3-2d4b-4f31-8939-b77fbe44ce91",
   "metadata": {},
   "outputs": [],
   "source": [
    "path_to_json = '/export/work/tieple/Projects/tmp/COCO-Counterfactuals/coco-counterfactuals/coco_counterfactuals_captions.jsonl'"
   ]
  },
  {
   "cell_type": "code",
   "execution_count": 11,
   "id": "65c9fa22-f08d-4124-9b38-a29c6cc8118a",
   "metadata": {},
   "outputs": [],
   "source": [
    "metadata = []\n",
    "with open(path_to_json, 'r') as f:\n",
    "    for l in f:\n",
    "        metadata.append(json.loads(l))"
   ]
  },
  {
   "cell_type": "code",
   "execution_count": 12,
   "id": "9df54f43-cc09-4294-8ef4-016754dbdab8",
   "metadata": {},
   "outputs": [
    {
     "data": {
      "text/plain": [
       "{'coco-counterfactual-index': '158956_0',\n",
       " 'original_caption': 'A woman is cutting into a cake with a large knife.',\n",
       " 'counterfactual_caption': 'A baker is cutting into a cake with a large knife.'}"
      ]
     },
     "execution_count": 12,
     "metadata": {},
     "output_type": "execute_result"
    }
   ],
   "source": [
    "metadata[0]"
   ]
  },
  {
   "cell_type": "code",
   "execution_count": 15,
   "id": "a806b43a-040c-4fdb-89d6-e935720f6e38",
   "metadata": {},
   "outputs": [],
   "source": [
    "index = 'coco-counterfactual-index'\n",
    "original_caption = 'original_caption'\n",
    "counterfactual_caption = 'counterfactual_caption'\n",
    "id_fn = 'id'\n",
    "caption_0_fn = 'caption_0'\n",
    "caption_1_fn = 'caption_1'\n",
    "image_0_fn = 'image_0'\n",
    "image_1_fn = 'image_1'"
   ]
  },
  {
   "cell_type": "code",
   "execution_count": 16,
   "id": "391702da-a617-4a36-99ec-04825d719b5a",
   "metadata": {},
   "outputs": [],
   "source": [
    "fn_metadata = []\n",
    "for l in metadata:\n",
    "    sample = {}\n",
    "    sample[id_fn] = l[index]\n",
    "    sample[caption_0_fn] = l[original_caption]\n",
    "    sample[caption_1_fn] = l[counterfactual_caption]\n",
    "    sample[image_0_fn] = f\"{l[index]}_img_0\"\n",
    "    sample[image_1_fn] = f\"{l[index]}_img_1\"\n",
    "    fn_metadata.append(sample)"
   ]
  },
  {
   "cell_type": "code",
   "execution_count": 17,
   "id": "d8b6799c-e570-4736-92e3-80c44575c6b1",
   "metadata": {},
   "outputs": [
    {
     "data": {
      "text/plain": [
       "{'id': '158956_0',\n",
       " 'caption_0': 'A woman is cutting into a cake with a large knife.',\n",
       " 'caption_1': 'A baker is cutting into a cake with a large knife.',\n",
       " 'image_0': '158956_0_img_0',\n",
       " 'image_1': '158956_0_img_1'}"
      ]
     },
     "execution_count": 17,
     "metadata": {},
     "output_type": "execute_result"
    }
   ],
   "source": [
    "fn_metadata[0]"
   ]
  },
  {
   "cell_type": "code",
   "execution_count": 18,
   "id": "ac69cd7a-f55c-435c-9b16-dc5bb5493e24",
   "metadata": {},
   "outputs": [],
   "source": [
    "with open('metadata.jsonl', 'w') as f:\n",
    "    for l in fn_metadata:\n",
    "        json.dump(l, f)\n",
    "        f.write('\\n')"
   ]
  },
  {
   "cell_type": "markdown",
   "id": "3e15c20d-1993-47be-81b5-4a61a98fab9d",
   "metadata": {},
   "source": [
    "### Update image filenames"
   ]
  },
  {
   "cell_type": "code",
   "execution_count": 20,
   "id": "34546257-38e9-40d6-beae-8c4b1d3cca84",
   "metadata": {},
   "outputs": [],
   "source": [
    "import shutil\n",
    "import os\n",
    "import os.path as osp"
   ]
  },
  {
   "cell_type": "code",
   "execution_count": 21,
   "id": "5f03bb97-bdf6-49f3-baa3-ec00394bd73e",
   "metadata": {},
   "outputs": [],
   "source": [
    "path_to_image_data = '/export/share/projects/mcai/COCO-Counterfactuals/coco-counterfactuals/'\n",
    "path_to_counterfactual = osp.join(path_to_image_data, 'synthetic-images-for-counterfactual-captions')\n",
    "path_to_original = osp.join(path_to_image_data, 'synthetic-images-for-original-captions')"
   ]
  },
  {
   "cell_type": "code",
   "execution_count": 22,
   "id": "f94b06fe-5a80-4e1e-a295-4cf67207f0e1",
   "metadata": {},
   "outputs": [],
   "source": [
    "fn_data_folder = '/export/share/projects/mcai/COCO-Counterfactuals/coco-counterfactuals-hf/data'"
   ]
  },
  {
   "cell_type": "code",
   "execution_count": 23,
   "id": "81bbb4ea-fe59-4917-a087-dd68c779aa9d",
   "metadata": {},
   "outputs": [],
   "source": [
    "for l in fn_metadata:\n",
    "    src_0 = osp.join(path_to_original, l[id_fn] + '.jpg')\n",
    "    src_1 = osp.join(path_to_counterfactual, l[id_fn] + '.jpg')\n",
    "    dst_0 = osp.join(fn_data_folder, l[image_0_fn] + '.jpg')\n",
    "    dst_1 = osp.join(fn_data_folder, l[image_1_fn] + '.jpg')\n",
    "    shutil.copy(src_0, dst_0)\n",
    "    shutil.copy(src_1, dst_1)\n",
    "    "
   ]
  },
  {
   "cell_type": "code",
   "execution_count": null,
   "id": "29344dce-1d12-4cf0-9840-b4b898d1b2da",
   "metadata": {},
   "outputs": [],
   "source": []
  }
 ],
 "metadata": {
  "kernelspec": {
   "display_name": "counterfactual",
   "language": "python",
   "name": "counterfactual"
  },
  "language_info": {
   "codemirror_mode": {
    "name": "ipython",
    "version": 3
   },
   "file_extension": ".py",
   "mimetype": "text/x-python",
   "name": "python",
   "nbconvert_exporter": "python",
   "pygments_lexer": "ipython3",
   "version": "3.8.15"
  }
 },
 "nbformat": 4,
 "nbformat_minor": 5
}
