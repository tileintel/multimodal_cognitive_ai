{
 "cells": [
  {
   "cell_type": "markdown",
   "id": "40629570-3b2e-49fd-a06a-7267adf959f1",
   "metadata": {},
   "source": [
    "#### This is to convert captions in jsonl format into txt format 'index[\\t]original_caption[\\t]counterfactual_caption'"
   ]
  },
  {
   "cell_type": "code",
   "execution_count": 1,
   "id": "ab573182-59b9-498a-be6b-e986200fce7b",
   "metadata": {},
   "outputs": [],
   "source": [
    "from helpers import load_jsonl"
   ]
  },
  {
   "cell_type": "code",
   "execution_count": 2,
   "id": "a5c3b4ae-6e86-408b-a6d3-f4d2becc5aeb",
   "metadata": {},
   "outputs": [
    {
     "name": "stdout",
     "output_type": "stream",
     "text": [
      "Loaded 17410 records from ./coco_counterfactuals_captions.jsonl\n"
     ]
    }
   ],
   "source": [
    "data = load_jsonl('./coco_counterfactuals_captions.jsonl')"
   ]
  },
  {
   "cell_type": "code",
   "execution_count": 4,
   "id": "e4aecf1a-9812-463f-8722-916b696b15f5",
   "metadata": {},
   "outputs": [],
   "source": [
    "index = 'coco-counterfactual-index'\n",
    "origin_caption = 'original_caption'\n",
    "counter_caption = 'counterfactual_caption'"
   ]
  },
  {
   "cell_type": "code",
   "execution_count": 6,
   "id": "c21876c6-bf56-4b88-a5e0-76e9b3d6fd5b",
   "metadata": {},
   "outputs": [],
   "source": [
    "with open('./cap_val_2017.txt', 'w') as w:\n",
    "    for d in data:\n",
    "        w.write(d[index] + '\\t' + d[origin_caption] + '\\t' + d[counter_caption])\n",
    "        w.write('\\n')"
   ]
  },
  {
   "cell_type": "code",
   "execution_count": null,
   "id": "8c4cf8b4-5b65-4fbc-8bf2-294e5985831d",
   "metadata": {},
   "outputs": [],
   "source": []
  }
 ],
 "metadata": {
  "kernelspec": {
   "display_name": "bridgetower",
   "language": "python",
   "name": "bridgetower"
  },
  "language_info": {
   "codemirror_mode": {
    "name": "ipython",
    "version": 3
   },
   "file_extension": ".py",
   "mimetype": "text/x-python",
   "name": "python",
   "nbconvert_exporter": "python",
   "pygments_lexer": "ipython3",
   "version": "3.8.15"
  }
 },
 "nbformat": 4,
 "nbformat_minor": 5
}
